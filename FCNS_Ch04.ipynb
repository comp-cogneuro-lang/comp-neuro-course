{
 "cells": [
  {
   "cell_type": "markdown",
   "id": "a3e1e443-c03e-4de9-a1f6-55c2787ac103",
   "metadata": {},
   "source": [
    "# Chapter 4: From neurons to populations"
   ]
  },
  {
   "cell_type": "markdown",
   "id": "b254bec0-aa2f-475e-b4bd-ac7a197d3790",
   "metadata": {},
   "source": [
    "### Load needed modules"
   ]
  },
  {
   "cell_type": "code",
   "execution_count": null,
   "id": "7c90145c-b028-47d8-a8e5-91f5cfb60f1b",
   "metadata": {},
   "outputs": [],
   "source": [
    "import numpy as np\n",
    "import matplotlib.pyplot as plt"
   ]
  },
  {
   "cell_type": "markdown",
   "id": "ef0cf0f9-f7a0-46c3-b7fe-767756dc76ce",
   "metadata": {},
   "source": [
    "## Section 4.2: Synaptic mechanisms and dendritic processing\n",
    "\n",
    "### 4.2.3: Modeling synaptic responses\n",
    "The variation of a membrane potential initiated from a presynaptic spike can be described as a postsynaptic potential (PSP). Excitatory synapses increase a membrane potential in what is called the excitatory postsynaptic potential (EPSP)."
   ]
  },
  {
   "cell_type": "markdown",
   "id": "4ba851b7-d7f8-4f4c-aec1-37a7547dd7f5",
   "metadata": {},
   "source": [
    "#### Membrane potential\n",
    "In the code below, we simulate the time course of the membrane potential (V) of the postsynaptic neuron in a synapse (equation 4.1)"
   ]
  },
  {
   "cell_type": "code",
   "execution_count": null,
   "id": "08fbdcaf-1f1a-41e6-a669-c1d06f784cf8",
   "metadata": {},
   "outputs": [],
   "source": [
    "# Voltage over time for non-NMDA synapse\n",
    "t = np.arange(0, 10, 0.1)\n",
    "v = t*np.exp(-t/2)\n",
    "plt.plot(t,v); plt.xlabel(\"t\"); plt.ylabel(\"v\")"
   ]
  },
  {
   "cell_type": "markdown",
   "id": "c8330193-e021-4384-a7bf-9c0d787a08a9",
   "metadata": {},
   "source": [
    "#### EPSP simulation\n",
    "In the code above, we simulated the membrane potential (voltage)  **simply as a function of time *(t)***.\n",
    "\n",
    "We can play with the moment in which the membrane potential peaks and with the amplitude of the current (see eqn 4.1)\n",
    "\n",
    "In the code below, we go a step further and simulate the excitatory postsynaptic potential with more specific parameters (constants and initial values)\n",
    "\n",
    "Simulated by shaping the analytical eqn 4.3 into numerical integration (eqn 4.5)"
   ]
  },
  {
   "cell_type": "code",
   "execution_count": null,
   "id": "69ec27bc-8b79-42cc-9794-dff99c7bfee5",
   "metadata": {},
   "outputs": [],
   "source": [
    "# Synaptic conductance model to simulate an EPSP\n",
    "\n",
    "# Setting some constants (won't change) and initial values (will be updated at every integration step)\n",
    "c_m=1; V_l=0; V_s=10; tau=1; dt=0.1; #c_: capacitance; g_: conductance; v_: voltage; I_: current\n",
    "g_l=1; g_s=[0]; # _m: membrane; _l: leakage channel; _s: synaptic ion channel\n",
    "I_l = [0]; I_s = [0];\n",
    "v_m = [0]; t =  [0];\n",
    "\n",
    "# Numerical integration using Euler scheme\n",
    "for step in range(1, int(10/dt)):\n",
    "    \n",
    "    # record the time (in ms) in slot step of vector t\n",
    "    t.append(t[step-1]+dt)\n",
    "    \n",
    "    # simulate opening synaptic channels around t = 1 ms\n",
    "    if abs(t[step]-1) < 0.0001: g_s[step-1] = 1; # an implementation of the delta function (chapter 3)\n",
    "    \n",
    "    # calculate the currents at this time\n",
    "    I_l.append(g_l * (v_m[step-1]-V_l))\n",
    "    I_s.append(g_s[step-1] * (v_m[step-1]-V_s))\n",
    "    \n",
    "    # update conductance and membrane potential\n",
    "    g_s.append(g_s[step-1]-dt/tau * g_s[step-1])\n",
    "    v_m.append(v_m[step-1]-dt/c_m*(I_l[step]+I_s[step]))\n",
    "    \n",
    "plt.plot(t, v_m, 'k');"
   ]
  },
  {
   "cell_type": "markdown",
   "id": "b9a4c9f7-4878-496b-9661-5907cefa895b",
   "metadata": {},
   "source": [
    "**In class** \n",
    "\n",
    "Let's try and plot the temporal development of other variables (e.g., current of the leakage channel, or conductance of the synaptic channel)"
   ]
  },
  {
   "cell_type": "markdown",
   "id": "f6d4b876-b8a2-4e5c-a01f-1029eead1bc7",
   "metadata": {},
   "source": [
    "## Section 4.3: The generation of action potentials: Hodgkin-Huxley "
   ]
  },
  {
   "cell_type": "markdown",
   "id": "44f36b57-1035-4e38-9f89-b148890f10b9",
   "metadata": {},
   "source": [
    "### Hodgkin-Huxley model\n",
    "\n",
    "The Hodgkin-Huxley is a classical minimal model of action potential generation based on the observations directly recorded from the axons of squid.\n",
    "\n",
    "This model also works well at approximating the action potential of pyramidal cells in vertebrates such as ourselves.\n",
    "\n",
    "Although the functions and their python implementation might look complex, they are just the way to fit the experimental observations of Hodgkin and Huxley. For example:\n",
    "- Some constants: \n",
    "    - conductances of Na, K, and leak channels: **g** array.\n",
    "    - Equilibrium potentials of Na, K, and leak: **V** array.\n",
    "- Some variables:\n",
    "    - gating variable for the different ion channels: **x** array\n",
    "- Some functions, the alpha and beta functions describe the voltage-dependent probability of the activation (n, m) or inactivation (h) channels being open\n",
    "\n",
    "In summary, this model describes how membrane voltage (v) evolves based on the dynamics of sodium, potassium, and leak currents."
   ]
  },
  {
   "cell_type": "code",
   "execution_count": null,
   "id": "fa85ca2c-93fc-4783-a049-9509f9a6642b",
   "metadata": {},
   "outputs": [],
   "source": [
    "# Hodgkin-Huxley model\n",
    "# Max conductances (in units of mS/cm^2) ; 0=K, 1=Na, 2=R\n",
    "g = np.array([36,120,0.3])\n",
    "# Battery voltage (in mV); 0=n, 1=m, 2=h\n",
    "V = np.array([-12,115,10.613])\n",
    "# Initialization of some variables\n",
    "v=0; x= np.array([0,0,1]); t=0; dt=0.01\n",
    "t_rec=[]; v_rec=[]; x_0_rec=[]\n",
    "# Integration with Euler method\n",
    "for step in range(1, int(100/dt)):\n",
    "    t=t+dt\n",
    "    if t>30 and t<89: I_ext=10\n",
    "    else: I_ext=0\n",
    "    # alpha functions used by Hodgkin and Huxley (eqn 4.11 - 4.16)\n",
    "    Alpha = np.array([0.01*(-v+10)/(np.exp((-v+10)/10)-1),\n",
    "    0.1*(-v+25)/(np.exp((-v+25)/10)-1),\n",
    "    0.07*np.exp(-v/20)])\n",
    "    # beta functions used by Hodgkin and Huxley\n",
    "    Beta = np.array([0.125*np.exp(-v/80),\n",
    "                    4*np.exp(-v/18),\n",
    "                    1/(np.exp((-v+30)/10)+1)])\n",
    "    # update x = {n,m,h} variables\n",
    "    x = x+dt*(Alpha*(1-x)-Beta*x)\n",
    "    # calculate actual conductances g with given n, m, and h\n",
    "    gx = np.array([g[0]*x[0]**4,g[1]*x[1]**3*x[2],g[2]])\n",
    "    # Ohm's law\n",
    "    I = gx*(v-V)\n",
    "    # update voltage of membrane\n",
    "    v = v+dt*(I_ext-sum(I))\n",
    "    # record some variables for plotting after equil.\n",
    "    t_rec.append(t)\n",
    "    v_rec.append(v)\n",
    "\n",
    "# Plotting results\n",
    "plt.plot(t_rec, v_rec);\n",
    "plt.xlabel('Time'); plt.ylabel('Voltage')\n",
    "plt.rcParams.update({'font.size':15})\n",
    "plt.legend(loc = \"center left\")"
   ]
  },
  {
   "cell_type": "markdown",
   "id": "899e90de-9086-4cd0-a361-d0b7f9cc6717",
   "metadata": {},
   "source": [
    "Let's modify some values in the model!"
   ]
  },
  {
   "cell_type": "markdown",
   "id": "542bb074-a317-4699-8e48-acd300b0423a",
   "metadata": {},
   "source": [
    "### Activation function of Hodgkin-Huxley neuron\n",
    "The activation function lets us explore two relevant aspects of the Hodgkin–Huxley neuron.\n",
    "\n",
    "First, in the basic model, shown with the solid line in the graph, onset of firing follows a sharp threshold (around 6mA/cm2).\n",
    "\n",
    "Second, there is a fairly limited range of frequencies when the axon fires, starting at about 50 Hz and increasing only slightly with increasing external current. This is interesting because it shows that not all neuronal frequencies are equally likely.\n",
    "\n",
    "The figure poduced with the code below igure shows a spike count for a given window (currently 1000 ms). That's why it might show more continuous or stepwise increases in spike frequency depending on the size of the time window (more time, more counts and continuity). "
   ]
  },
  {
   "cell_type": "code",
   "execution_count": null,
   "id": "8452eb27-202f-4689-a6c8-26a6e9bcd46a",
   "metadata": {},
   "outputs": [],
   "source": [
    "def count_spikes(v, threshold=0):\n",
    "    \"\"\"Count the number of spikes in the membrane potential.\"\"\"\n",
    "    spikes = (v[:-1] < threshold) & (v[1:] >= threshold)\n",
    "    return np.sum(spikes)\n",
    "\n",
    "# Constants\n",
    "g = np.array([36, 120, 0.3])\n",
    "V = np.array([-12, 115, 10.613])\n",
    "dt = 0.01\n",
    "simulation_time = 1000  # ms\n",
    "num_steps = int(simulation_time / dt)\n",
    "\n",
    "# Range of external currents to test\n",
    "I_ext_range = np.linspace(0, 20, 50)\n",
    "firing_rates = []\n",
    "\n",
    "for I_ext in I_ext_range:\n",
    "    v = 0\n",
    "    x = np.array([0, 0, 1])\n",
    "    v_rec = []\n",
    "\n",
    "    for step in range(num_steps):\n",
    "        t = step * dt\n",
    "\n",
    "        # Alpha functions\n",
    "        Alpha = np.array([\n",
    "            0.01 * (-v + 10) / (np.exp((-v + 10) / 10) - 1),\n",
    "            0.1 * (-v + 25) / (np.exp((-v + 25) / 10) - 1),\n",
    "            0.07 * np.exp(-v / 20)\n",
    "        ])\n",
    "\n",
    "        # Beta functions\n",
    "        Beta = np.array([\n",
    "            0.125 * np.exp(-v / 80),\n",
    "            4 * np.exp(-v / 18),\n",
    "            1 / (np.exp((-v + 30) / 10) + 1)\n",
    "        ])\n",
    "\n",
    "        # Update gating variables (n, m, h)\n",
    "        x = x + dt * (Alpha * (1 - x) - Beta * x)\n",
    "\n",
    "        # Conductances\n",
    "        gx = np.array([g[0] * x[0]**4, g[1] * x[1]**3 * x[2], g[2]])\n",
    "\n",
    "        # Currents and voltage update\n",
    "        I = gx * (v - V)\n",
    "        v = v + dt * (I_ext - sum(I))\n",
    "\n",
    "        # Record membrane potential\n",
    "        v_rec.append(v)\n",
    "\n",
    "    # Calculate firing rate (spikes per second)\n",
    "    spikes = count_spikes(np.array(v_rec))\n",
    "    firing_rate = spikes / (simulation_time / 1000)  # spikes per second\n",
    "    firing_rates.append(firing_rate)\n",
    "\n",
    "# Plot the activation function\n",
    "plt.figure(figsize=(10, 6))\n",
    "plt.plot(I_ext_range, firing_rates, label=\"Firing Rate\")\n",
    "plt.title(\"Activation Function: Firing Rate vs. External Current\")\n",
    "plt.xlabel(\"External Current (\\u03bcA/cm^2)\")\n",
    "plt.ylabel(\"Firing Rate (Hz)\")\n",
    "plt.grid()\n",
    "plt.legend()\n",
    "plt.show()"
   ]
  },
  {
   "cell_type": "markdown",
   "id": "f46f8e2b-1bbe-4244-b435-491f84ee0557",
   "metadata": {},
   "source": [
    "### The Wilson model\n",
    "The Wilson model is achieved by simplifying the 4 differential equations of Hodgkin-Huxley neuron to 2 equations, and adding two additional differential equations that are essential for simulating the diverse firing patterns of neocortical mammalian neurons.\n",
    "\n",
    "With it, we can  approximate mammalian spike characteristics in great detail. This includes the shape of single spikes, as well as all major classes of spike characteristics, such as regular spiking neurons (RS), fast spiking neurons (FS), continuously spiking neurons (CS), and intrinsic bursting neurons (IB), by choosing appropriate values of the remaining constants."
   ]
  },
  {
   "cell_type": "code",
   "execution_count": null,
   "id": "aa34f5ef-e313-4ad9-9e7f-2e14034cf572",
   "metadata": {},
   "outputs": [],
   "source": [
    "# Wilson neuron\n",
    "import numpy as np\n",
    "import matplotlib.pyplot as plt\n",
    "from scipy.integrate import odeint\n",
    "\n",
    "def ydot(y, t, Iext, g, E, tau):\n",
    "    \n",
    "    V=y[0]; R=y[1]; T=y[2]; H=y[3]\n",
    "    \n",
    "    gNa = 17.8 + 47.6*V + 33.8*V**2\n",
    "    R0 = 1.24 +  3.7*V +  3.2*V**2\n",
    "    T0 = 4.205 + 11.6*V + 8*V**2\n",
    "    X = np.array([R, gNa, T, H])\n",
    "    \n",
    "    Vdot = -1/tau[0]*(g*X@(V-E)-Iext)\n",
    "    Rdot = -1/tau[1]*(R-R0)\n",
    "    Tdot = -1/tau[2]*(T-T0)\n",
    "    Hdot = -1/tau[3]*(H-3*T)\n",
    "    \n",
    "    return np.array([Vdot, Rdot, Tdot, Hdot])\n",
    "\n",
    "# parameters of the model: 0=K 1=Na 2=T 3=H\n",
    "g = np.array([26, 1, 2.25, 9.5])\n",
    "E = np.array([-0.95, 0.50, 1.20, -0.95])\n",
    "tau = np.array([1, 4.2, 14, 45])\n",
    "\n",
    "# 1: Equilibration: no external input\n",
    "Iext = 0; y0=np.zeros(4); y0[0]=-1\n",
    "t=np.arange(0,100,0.1)\n",
    "y = odeint(ydot, y0, t, args=(Iext, g, E, tau))\n",
    "\n",
    "# 2: Integration with exteral input\n",
    "Iext = 1; y0=y[-1,:]\n",
    "t = np.arange(0,200, 0.1)\n",
    "y = odeint(ydot, y0, t, args=(Iext, g, E, tau))\n",
    "\n",
    "plt.plot(t,y[:,0])\n",
    "plt.xlabel('Time'); plt.ylabel('Membrane potential')"
   ]
  },
  {
   "cell_type": "markdown",
   "id": "9915c5c8-1b9f-41ce-8764-b76c56cb8baa",
   "metadata": {},
   "source": [
    "### 4.4. The FitzHugh-Nagumo model\n",
    "Similarly to the Wilson model, the FN model simplifies Hodgkin-Huxley equations. It doesn't capture as well the biological reality of an action potential as the Hodgkin-Huxley model.\n",
    "\n",
    "But, by reducing the numer of equations to two (for a voltage activator and a recovery variable), it is able to qualitatively reproduce the action potential generation of neurons, enabling the study of their dynamical features.\n"
   ]
  },
  {
   "cell_type": "code",
   "execution_count": null,
   "id": "89c31c8d-3bc8-4e8e-b992-0c32a8f2d539",
   "metadata": {},
   "outputs": [],
   "source": [
    "# FitzHugh-Nagumo model\n",
    "import matplotlib.pyplot as plt\n",
    "\n",
    "# Parameters and initialization\n",
    "Iext=0.5; v=[0]; w=[0]; t=[0]; dt=0.1\n",
    "\n",
    "for step in range(1, int(200/dt)):\n",
    "    # record time steps\n",
    "    t.append(t[step-1]+dt)\n",
    "    # numerical integration and recording\n",
    "    v.append(v[step-1]+dt*(v[step-1]-v[step-1]**3/3-w[step-1]+Iext)) # voltage\n",
    "    w.append(w[step-1]+dt*0.08*(v[step-1]+0.7-0.8*w[step-1])) # recovery\n",
    "\n",
    "plt.plot(t,v); plt.xlabel('t'); plt.ylabel('v')"
   ]
  },
  {
   "cell_type": "markdown",
   "id": "1cb7211f-5fa3-4ccc-9768-a1842bd1d0c8",
   "metadata": {},
   "source": [
    "## Homework\n",
    "Due Monday, Feb. 10, 13.00. Send to jperez@bcbl.eu in either .doc, .txt, or just by inserting it in the markdown cell below and sending me a copy of this notebook\n",
    "1. What possible cognitive/language/behavioral mechanism would you be able to simulate with a single neuron model? Feel free to speculate even if the model already exists or you think it might be difficult to implement or biologically implausbile ;)\n",
    "2. Why the code for simulating the postsynaptic membrane potential is an useful approximation to AMPA and GABA neurons but not NMDAR neurons?\n",
    "3. If the Hodgkin-Huxley model describes closely the biological reality of action potential generation, why are models as Wilson's or Fitz-Nagumo's useful? Speculate a bit on the application we could make of Hodgkin-Huxley, Wilson, and Fitz-Nagumo models."
   ]
  }
 ],
 "metadata": {
  "kernelspec": {
   "display_name": "Python 3 (ipykernel)",
   "language": "python",
   "name": "python3"
  },
  "language_info": {
   "codemirror_mode": {
    "name": "ipython",
    "version": 3
   },
   "file_extension": ".py",
   "mimetype": "text/x-python",
   "name": "python",
   "nbconvert_exporter": "python",
   "pygments_lexer": "ipython3",
   "version": "3.8.19"
  }
 },
 "nbformat": 4,
 "nbformat_minor": 5
}
