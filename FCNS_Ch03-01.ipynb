{
 "cells": [
  {
   "cell_type": "markdown",
   "id": "a3e1e443-c03e-4de9-a1f6-55c2787ac103",
   "metadata": {},
   "source": [
    "# Chapter 3: Math and Stats"
   ]
  },
  {
   "cell_type": "markdown",
   "id": "bff6269c-cb9c-485f-9d63-f2662fd9915f",
   "metadata": {},
   "source": [
    "### Load needed modules"
   ]
  },
  {
   "cell_type": "code",
   "execution_count": 14,
   "id": "f7f82470-26e9-4d27-a5e4-68170fe666e9",
   "metadata": {},
   "outputs": [],
   "source": [
    "import numpy as np\n",
    "import matplotlib.pyplot as plt"
   ]
  },
  {
   "cell_type": "markdown",
   "id": "236c9505-6e0c-4bc0-877b-460090d7514d",
   "metadata": {},
   "source": [
    "## Section 3.1: Vector and Matrix Notations Examples\n",
    "\n",
    "This section of the notebook demonstrates vector and matrix operations using Python, based on the examples provided in Section 3.1 of the text.\n",
    "\n",
    "### Scalar Example\n",
    "A scalar is a single numerical value."
   ]
  },
  {
   "cell_type": "code",
   "execution_count": 15,
   "id": "69ec27bc-8b79-42cc-9794-dff99c7bfee5",
   "metadata": {},
   "outputs": [
    {
     "name": "stdout",
     "output_type": "stream",
     "text": [
      "Scalar value: 41\n"
     ]
    }
   ],
   "source": [
    "# %%\n",
    "# Scalar Example\n",
    "scalar = 41\n",
    "print(f\"Scalar value: {scalar}\")"
   ]
  },
  {
   "cell_type": "markdown",
   "id": "68670770-3c19-4fb1-94ee-659ec3365386",
   "metadata": {},
   "source": [
    "----\n",
    "### Vector Examples\n",
    "A vector is a one-dimensional array of values. Vectors can be column or row vectors."
   ]
  },
  {
   "cell_type": "code",
   "execution_count": 17,
   "id": "3f8a59d4-d7b1-45e6-9dd6-e4ff3f7d28de",
   "metadata": {},
   "outputs": [
    {
     "name": "stdout",
     "output_type": "stream",
     "text": [
      "Column vector:\n",
      "[[41]\n",
      " [ 7]\n",
      " [13]]\n",
      "\n",
      "Row vector:\n",
      "[41  7 13]\n"
     ]
    }
   ],
   "source": [
    "# Column vector representation\n",
    "column_vector = np.array([[41], [7], [13]])\n",
    "print(\"Column vector:\")\n",
    "print(column_vector)\n",
    "\n",
    "# Row vector representation\n",
    "row_vector = np.array([41, 7, 13])\n",
    "print(\"\\nRow vector:\")\n",
    "print(row_vector)"
   ]
  },
  {
   "cell_type": "markdown",
   "id": "a99d1e46-6cd4-4267-8745-0a28809b3a1c",
   "metadata": {},
   "source": [
    "----\n",
    "### Matrix Examples\n",
    "A matrix is a two-dimensional array of values, represented as rows and columns."
   ]
  },
  {
   "cell_type": "code",
   "execution_count": 18,
   "id": "acce1a58-45a1-40c1-b883-6bc22f7615fe",
   "metadata": {},
   "outputs": [
    {
     "name": "stdout",
     "output_type": "stream",
     "text": [
      "Matrix:\n",
      "[[41 12]\n",
      " [ 7 45]\n",
      " [13  9]]\n"
     ]
    }
   ],
   "source": [
    "# Matrix representation\n",
    "matrix = np.array([[41, 12], [7, 45], [13, 9]])\n",
    "print(\"Matrix:\")\n",
    "print(matrix)"
   ]
  },
  {
   "cell_type": "markdown",
   "id": "506a574e-5c89-4bab-a903-8785396660c4",
   "metadata": {},
   "source": [
    "----\n",
    "### Matrix Addition\n",
    "Adding two matrices involves adding their corresponding elements."
   ]
  },
  {
   "cell_type": "code",
   "execution_count": 19,
   "id": "e063afb6-2f3b-42a2-a94e-2ade92f0f2aa",
   "metadata": {},
   "outputs": [
    {
     "name": "stdout",
     "output_type": "stream",
     "text": [
      "Matrix A:\n",
      "[[1 2]\n",
      " [3 4]\n",
      " [5 6]]\n",
      "\n",
      "Matrix B:\n",
      "[[6 5]\n",
      " [4 3]\n",
      " [2 1]]\n",
      "\n",
      "Sum of A and B:\n",
      "[[7 7]\n",
      " [7 7]\n",
      " [7 7]]\n"
     ]
    }
   ],
   "source": [
    "# Example matrices for addition\n",
    "matrix_a = np.array([[1, 2], [3, 4], [5, 6]])\n",
    "matrix_b = np.array([[6, 5], [4, 3], [2, 1]])\n",
    "\n",
    "# Matrix addition\n",
    "matrix_sum = matrix_a + matrix_b\n",
    "print(\"Matrix A:\")\n",
    "print(matrix_a)\n",
    "print(\"\\nMatrix B:\")\n",
    "print(matrix_b)\n",
    "print(\"\\nSum of A and B:\")\n",
    "print(matrix_sum)"
   ]
  },
  {
   "cell_type": "markdown",
   "id": "6374c22c-10c1-4442-bf20-8c0ea98269a9",
   "metadata": {},
   "source": [
    "----\n",
    "### Matrix Multiplication\n",
    "Matrix multiplication involves the dot product of rows and columns."
   ]
  },
  {
   "cell_type": "code",
   "execution_count": 20,
   "id": "727d8b13-c239-4ff3-8dbf-a9f7d6c5c135",
   "metadata": {},
   "outputs": [
    {
     "name": "stdout",
     "output_type": "stream",
     "text": [
      "Matrix C:\n",
      "[[1 2]\n",
      " [3 4]]\n",
      "\n",
      "Matrix D:\n",
      "[[5 6]\n",
      " [7 8]]\n",
      "\n",
      "Product of C and D:\n",
      "[[19 22]\n",
      " [43 50]]\n"
     ]
    }
   ],
   "source": [
    "# Example matrices for multiplication\n",
    "matrix_c = np.array([[1, 2], [3, 4]])\n",
    "matrix_d = np.array([[5, 6], [7, 8]])\n",
    "\n",
    "# Matrix multiplication\n",
    "matrix_product = matrix_c @ matrix_d\n",
    "print(\"Matrix C:\")\n",
    "print(matrix_c)\n",
    "print(\"\\nMatrix D:\")\n",
    "print(matrix_d)\n",
    "print(\"\\nProduct of C and D:\")\n",
    "print(matrix_product)"
   ]
  },
  {
   "cell_type": "markdown",
   "id": "4b2f106f-d212-4285-9878-0e01050ec9c1",
   "metadata": {},
   "source": [
    "----\n",
    "### Transpose of a Matrix\n",
    "The transpose of a matrix switches its rows with columns."
   ]
  },
  {
   "cell_type": "code",
   "execution_count": 21,
   "id": "37754a38-5907-4cc1-b677-cc62377ebd71",
   "metadata": {},
   "outputs": [
    {
     "name": "stdout",
     "output_type": "stream",
     "text": [
      "Original Matrix:\n",
      "[[41 12]\n",
      " [ 7 45]\n",
      " [13  9]]\n",
      "\n",
      "Transposed Matrix:\n",
      "[[41  7 13]\n",
      " [12 45  9]]\n"
     ]
    }
   ],
   "source": [
    "# Transpose of a matrix\n",
    "transpose_matrix = matrix.T\n",
    "print(\"Original Matrix:\")\n",
    "print(matrix)\n",
    "print(\"\\nTransposed Matrix:\")\n",
    "print(transpose_matrix)"
   ]
  },
  {
   "cell_type": "markdown",
   "id": "7cb089e8-a5aa-4e65-ab49-638059b34342",
   "metadata": {},
   "source": [
    "----\n",
    "### Solving a System of Linear Equations\n",
    "Represent the equations in matrix form $ax = b$ and solve for $x$.\n",
    "\n",
    "Example equations:\n",
    "$$41x_1 + 12x_2 = 17$$\n",
    "$$7x_1 + 45x_2 = -83$$\n",
    "$$13x_1 + 9x_2 = -5$$"
   ]
  },
  {
   "cell_type": "code",
   "execution_count": 22,
   "id": "5d189acf-8b9e-4730-b140-58d858f2661e",
   "metadata": {},
   "outputs": [
    {
     "name": "stdout",
     "output_type": "stream",
     "text": [
      "Coefficient Matrix A:\n",
      "[[41 12]\n",
      " [ 7 45]\n",
      " [13  9]]\n",
      "\n",
      "Right-hand side Vector b:\n",
      "[ 17 -83  -5]\n",
      "\n",
      "Solution (x):\n",
      "[ 1. -2.]\n"
     ]
    }
   ],
   "source": [
    "# Coefficient matrix (A)\n",
    "A = np.array([[41, 12], [7, 45], [13, 9]])\n",
    "\n",
    "# Right-hand side vector (b)\n",
    "b = np.array([17, -83, -5])\n",
    "\n",
    "# Solve the system\n",
    "solution = np.linalg.lstsq(A, b, rcond=None)[0]\n",
    "print(\"Coefficient Matrix A:\")\n",
    "print(A)\n",
    "print(\"\\nRight-hand side Vector b:\")\n",
    "print(b)\n",
    "print(\"\\nSolution (x):\")\n",
    "print(solution)"
   ]
  },
  {
   "cell_type": "markdown",
   "id": "b70ec4be-33f0-4e1d-aa64-89881d998910",
   "metadata": {},
   "source": [
    "----\n",
    "## Section 3.2: Distance Measures Examples\n",
    " \n",
    "This section of the notebook demonstrates various distance measures between vectors using Python, as described in Section 3.2 of the text."
   ]
  },
  {
   "cell_type": "markdown",
   "id": "17f296ca-70e7-4be4-be12-b26f7b1d4601",
   "metadata": {},
   "source": [
    "----\n",
    "### Comparing Two Vectors\n",
    "Comparing vectors involves checking if all their components are equal."
   ]
  },
  {
   "cell_type": "code",
   "execution_count": 23,
   "id": "57ff41c5-6381-4518-a8a0-7b2a07352449",
   "metadata": {},
   "outputs": [
    {
     "name": "stdout",
     "output_type": "stream",
     "text": [
      "Vectors are equal: True\n"
     ]
    }
   ],
   "source": [
    "# Example vectors\n",
    "vector_a = np.array([1, 0, 1])\n",
    "vector_b = np.array([1, 0, 1])\n",
    "\n",
    "# Check for equality\n",
    "are_equal = np.array_equal(vector_a, vector_b)\n",
    "print(f\"Vectors are equal: {are_equal}\")"
   ]
  },
  {
   "cell_type": "markdown",
   "id": "03f43bff-9699-4903-a8e1-03fc56377c23",
   "metadata": {},
   "source": [
    "----\n",
    "### Hamming Distance\n",
    "The Hamming distance counts the number of differing components between two binary vectors."
   ]
  },
  {
   "cell_type": "code",
   "execution_count": 24,
   "id": "6d3a9dfd-704a-4563-946b-c28bc99a58c5",
   "metadata": {},
   "outputs": [
    {
     "name": "stdout",
     "output_type": "stream",
     "text": [
      "Hamming distance: 2\n"
     ]
    }
   ],
   "source": [
    "# Binary vectors\n",
    "vector_c = np.array([1, 0, 1, 0])\n",
    "vector_d = np.array([0, 0, 1, 1])\n",
    "\n",
    "# Hamming distance\n",
    "hamming_distance = np.sum(vector_c != vector_d)\n",
    "print(f\"Hamming distance: {hamming_distance}\")"
   ]
  },
  {
   "cell_type": "markdown",
   "id": "6891f1c2-6b47-4817-9127-85fee759d98c",
   "metadata": {},
   "source": [
    "----\n",
    "### Normalized Hamming Distance\n",
    "The normalized Hamming distance scales the Hamming distance by the vector length."
   ]
  },
  {
   "cell_type": "code",
   "execution_count": 7,
   "id": "5a5b2888-6a43-41b8-8cd1-749ab0472c14",
   "metadata": {},
   "outputs": [
    {
     "name": "stdout",
     "output_type": "stream",
     "text": [
      "Normalized Hamming distance: 0.5\n"
     ]
    }
   ],
   "source": [
    "# Normalized Hamming distance\n",
    "normalized_hamming_distance = hamming_distance / len(vector_c)\n",
    "print(f\"Normalized Hamming distance: {normalized_hamming_distance}\")"
   ]
  },
  {
   "cell_type": "markdown",
   "id": "bdb445d1-40c6-441e-a801-bd656a262349",
   "metadata": {},
   "source": [
    "----\n",
    "### Euclidean Distance\n",
    "The Euclidean distance is the straight-line distance between two vectors in space."
   ]
  },
  {
   "cell_type": "code",
   "execution_count": 8,
   "id": "bd034587-1dfa-47c7-b8d3-37ce473759af",
   "metadata": {},
   "outputs": [
    {
     "name": "stdout",
     "output_type": "stream",
     "text": [
      "Euclidean distance: 4.242640687119285\n"
     ]
    }
   ],
   "source": [
    "# Example vectors\n",
    "vector_e = np.array([3, 4])\n",
    "vector_f = np.array([0, 1])\n",
    "\n",
    "# Euclidean distance\n",
    "euclidean_distance = np.linalg.norm(vector_e - vector_f)\n",
    "print(f\"Euclidean distance: {euclidean_distance}\")"
   ]
  },
  {
   "cell_type": "markdown",
   "id": "33b9dd36-4aff-4349-b0fe-f13c04498bcd",
   "metadata": {},
   "source": [
    "----\n",
    "### Cosine Similarity\n",
    "Cosine similarity measures the angle between two vectors, ranging from -1 to 1."
   ]
  },
  {
   "cell_type": "code",
   "execution_count": 40,
   "id": "98fcc578-2a92-4e6f-bf85-523cfa230538",
   "metadata": {},
   "outputs": [
    {
     "name": "stdout",
     "output_type": "stream",
     "text": [
      "Cosine similarity: 0.8\n"
     ]
    }
   ],
   "source": [
    "# Cosine similarity with a check for zero norm\n",
    "if np.linalg.norm(vector_e) == 0 or np.linalg.norm(vector_f) == 0:\n",
    "    print(\"Cosine similarity is undefined because one of the vectors has zero magnitude.\")\n",
    "else:\n",
    "    cosine_similarity = np.dot(vector_e, vector_f) / (np.linalg.norm(vector_e) * np.linalg.norm(vector_f))\n",
    "    print(f\"Cosine similarity: {cosine_similarity}\")\n",
    "\n",
    "# # Cosine similarity\n",
    "# cosine_similarity = np.dot(vector_e, vector_f) / (np.linalg.norm(vector_e) * np.linalg.norm(vector_f))\n",
    "# print(f\"Cosine similarity: {cosine_similarity}\")"
   ]
  },
  {
   "cell_type": "markdown",
   "id": "1497a5ed-be4a-4c98-bda2-d94d2b20c582",
   "metadata": {},
   "source": [
    "----\n",
    "### Pearson Correlation Coefficient\n",
    "Pearson correlation measures the linear correlation between two vectors."
   ]
  },
  {
   "cell_type": "code",
   "execution_count": 41,
   "id": "7c42176f-7037-4c29-ab8f-b7dcf004ed63",
   "metadata": {},
   "outputs": [
    {
     "name": "stdout",
     "output_type": "stream",
     "text": [
      "Pearson correlation coefficient: -1.0\n"
     ]
    }
   ],
   "source": [
    "# Example vectors\n",
    "vector_g = np.array([1, 2, 3, 4])\n",
    "vector_h = np.array([4, 3, 2, 1])\n",
    "\n",
    "# Pearson correlation coefficient\n",
    "mean_g = np.mean(vector_g)\n",
    "mean_h = np.mean(vector_h)\n",
    "\n",
    "numerator = np.sum((vector_g - mean_g) * (vector_h - mean_h))\n",
    "denominator = np.sqrt(np.sum((vector_g - mean_g)**2) * np.sum((vector_h - mean_h)**2))\n",
    "pearson_correlation = numerator / denominator\n",
    "\n",
    "print(f\"Pearson correlation coefficient: {pearson_correlation}\")"
   ]
  },
  {
   "cell_type": "markdown",
   "id": "8fd44827-b59d-4c23-8986-a9938da9c1c6",
   "metadata": {},
   "source": [
    "----\n",
    "## Section 3.3: The δ-Function Examples\n",
    " \n",
    "This section of the notebook demonstrates the use of the δ-function in Python, based on the examples in Section 3.3 of the text.\n",
    "\n",
    "----\n",
    "### Definition of the δ-Function\n",
    "The δ-function is a mathematical construct that is zero everywhere except at one point, where it is infinite. The integral over the δ-function is one.\n",
    "\n",
    "----\n",
    "### Representing the δ-Function in Python\n",
    "While the δ-function cannot be directly represented in Python, we can approximate it numerically."
   ]
  },
  {
   "cell_type": "code",
   "execution_count": 12,
   "id": "2a120d30-a93d-40a1-a4da-935e100b2e18",
   "metadata": {},
   "outputs": [
    {
     "data": {
      "image/png": "[encoded data removed]",
      "text/plain": [
       "<Figure size 640x480 with 1 Axes>"
      ]
     },
     "metadata": {},
     "output_type": "display_data"
    }
   ],
   "source": [
    "# Define a numerical approximation of the δ-function\n",
    "def delta_function(x, x0, epsilon):\n",
    "    \"\"\"\n",
    "    Approximate δ-function as a narrow Gaussian.\n",
    "    x: array of points where the δ-function is evaluated.\n",
    "    x0: location of the δ-function peak.\n",
    "    epsilon: width of the approximation.\n",
    "    \"\"\"\n",
    "    return 1 / (np.sqrt(2 * np.pi) * epsilon) * np.exp(-((x - x0)**2) / (2 * epsilon**2))\n",
    "\n",
    "# Domain for visualization\n",
    "x = np.linspace(-5, 5, 1000)\n",
    "\n",
    "# Approximation of δ-function centered at x0 = 0\n",
    "delta = delta_function(x, 0, 0.1)\n",
    "\n",
    "# Plot the δ-function approximation\n",
    "plt.plot(x, delta, label=\"δ-function approximation\")\n",
    "plt.xlabel(\"x\")\n",
    "plt.ylabel(\"δ(x)\")\n",
    "plt.legend()\n",
    "plt.title(\"Approximation of δ-function\")\n",
    "plt.show()"
   ]
  },
  {
   "cell_type": "markdown",
   "id": "2f54417b-97d3-4779-8b2e-7182f7e25853",
   "metadata": {},
   "source": [
    "----\n",
    "### Using the δ-Function in Integration\n",
    "The δ-function can be used as an integration kernel. For example, integrating the δ-function over a function evaluates the function at the location of the δ-function's peak."
   ]
  },
  {
   "cell_type": "code",
   "execution_count": 13,
   "id": "68889c54-e809-46b6-95ad-8cbf2e9d1798",
   "metadata": {},
   "outputs": [
    {
     "name": "stdout",
     "output_type": "stream",
     "text": [
      "Integral of f(x) = x^2 with δ-function centered at x0=1: 1.01\n"
     ]
    }
   ],
   "source": [
    "# Function to integrate\n",
    "f = lambda x: x**2  # Example function\n",
    "\n",
    "# Numerical integration with δ-function\n",
    "from scipy.integrate import quad\n",
    "\n",
    "def integrate_with_delta(func, x0, epsilon):\n",
    "    \"\"\"\n",
    "    Numerically integrate a function using the δ-function as a kernel.\n",
    "    func: the function to integrate.\n",
    "    x0: location of the δ-function peak.\n",
    "    epsilon: width of the δ-function approximation.\n",
    "    \"\"\"\n",
    "    kernel = lambda x: func(x) * delta_function(x, x0, epsilon)\n",
    "    integral, _ = quad(kernel, -np.inf, np.inf)\n",
    "    return integral\n",
    "\n",
    "# Evaluate the integral\n",
    "result = integrate_with_delta(f, 1, 0.1)\n",
    "print(f\"Integral of f(x) = x^2 with δ-function centered at x0=1: {result}\")"
   ]
  },
  {
   "cell_type": "markdown",
   "id": "f76590e2-ac6e-4030-8282-f9decdd2281a",
   "metadata": {},
   "source": [
    "----\n",
    "### Example: δ-Function as a Density Function\n",
    "The δ-function is useful for representing discrete events in a continuous framework. Here we simulate a case where discrete points are modeled using δ-functions."
   ]
  },
  {
   "cell_type": "code",
   "execution_count": 44,
   "id": "9fbe98f7-697a-4146-95e6-8a98103490b7",
   "metadata": {},
   "outputs": [
    {
     "data": {
      "image/png": "[encoded data removed]",
      "text/plain": [
       "<Figure size 640x480 with 1 Axes>"
      ]
     },
     "metadata": {},
     "output_type": "display_data"
    }
   ],
   "source": [
    "# Define discrete points and their weights\n",
    "points = [0, 1, 2]\n",
    "weights = [1, 2, 1]\n",
    "\n",
    "def weighted_delta(x, points, weights, epsilon):\n",
    "    \"\"\"\n",
    "    Sum of weighted δ-functions.\n",
    "    x: domain for evaluation.\n",
    "    points: locations of δ-functions.\n",
    "    weights: weights of each δ-function.\n",
    "    epsilon: width of δ-function approximation.\n",
    "    \"\"\"\n",
    "    return sum(w * delta_function(x, p, epsilon) for p, w in zip(points, weights))\n",
    "\n",
    "# Sum of weighted δ-functions\n",
    "delta_sum = weighted_delta(x, points, weights, 0.1)\n",
    "\n",
    "# Plot the weighted δ-functions\n",
    "plt.plot(x, delta_sum, label=\"Weighted δ-functions\")\n",
    "plt.xlabel(\"x\")\n",
    "plt.ylabel(\"Sum of δ(x)\")\n",
    "plt.legend()\n",
    "plt.title(\"Weighted δ-Functions\")\n",
    "plt.show()"
   ]
  },
  {
   "cell_type": "markdown",
   "id": "80a47315-e516-4447-9d0e-bf3a3dd17ec4",
   "metadata": {},
   "source": [
    "## Section 3.4: Numerical calculus"
   ]
  },
  {
   "cell_type": "markdown",
   "id": "defc059e-87c0-4bf1-a85b-e7bd932a2771",
   "metadata": {},
   "source": [
    "### Euler method\n",
    "It's a method for approximating numerical solutions for ordinary differential equations (ODEs).\n",
    "\n",
    "In practice, it is useful for computing numerical discrete solutions for continuous (infinitesimal) processes. Therefore, it can be used for simulating dynamic variables (changes in time) such as the voltage, membrane potential, etc. of the models we are going to see from Chapter 4 on (single neuron models, population models)."
   ]
  },
  {
   "cell_type": "code",
   "execution_count": 10,
   "id": "936cc7c9-d68e-40ce-b81c-c89622db9e95",
   "metadata": {},
   "outputs": [
    {
     "data": {
      "text/plain": [
       "Text(0, 0.5, 'xEuler, xAna')"
      ]
     },
     "execution_count": 10,
     "metadata": {},
     "output_type": "execute_result"
    },
    {
     "data": {
      "image/png": "[encoded data removed]",
      "text/plain": [
       "<Figure size 640x480 with 1 Axes>"
      ]
     },
     "metadata": {},
     "output_type": "display_data"
    }
   ],
   "source": [
    "# Example of numerical integration\n",
    "from scipy.integrate import odeint\n",
    "\n",
    "def xdot(x, t):\n",
    "    return x\n",
    "\n",
    "x0 = 1 # initial conditions at x = 0\n",
    "dt = 0.1 # time step\n",
    "t = np.arange(0,3,dt) # integrate from 0 to 4\n",
    "\n",
    "xEuler = np.array([x0])\n",
    "for step in t:\n",
    "    xEuler = np.append(xEuler,\n",
    "                       xEuler[-1]+dt*xdot(xEuler[-1],step))\n",
    "    \n",
    "#xODEint = np.squeeze(odeint(xdot, x0, t))\n",
    "\n",
    "xAna = x0 * np.exp(t) # analytic solution\n",
    "\n",
    "plt.plot(t,xEuler[:-1], 'r--'); plt.plot(t,xAna)\n",
    "plt.xlabel('t'); plt.ylabel('xEuler, xAna')"
   ]
  },
  {
   "cell_type": "markdown",
   "id": "b82021b2-1be4-499d-9fb0-c519e8c5aa0c",
   "metadata": {},
   "source": [
    "### Leaky integrator\n",
    "Below you can find the code for implementing a leaky integrator with the Euler method for numerical integration.\n",
    "\n",
    "A leaky integrator accumulates (integrates) input over time, and allows some of the accumulated value to \"leak\" or decay. That is why leaky integrators are fundamental components of some computational models such as the Integrate-and-fire models, which we will explore in Chapter 5.\n"
   ]
  },
  {
   "cell_type": "code",
   "execution_count": 11,
   "id": "2c94c3e1-1140-40c3-bfab-54dcb8e76f14",
   "metadata": {},
   "outputs": [
    {
     "data": {
      "image/png": "[encoded data removed]",
      "text/plain": [
       "<Figure size 640x480 with 1 Axes>"
      ]
     },
     "metadata": {},
     "output_type": "display_data"
    }
   ],
   "source": [
    "import numpy as np\n",
    "import matplotlib.pyplot as plt\n",
    "\n",
    "tmax=10; dt=1; tau=2\n",
    "X = np.zeros(tmax*int(1/dt))\n",
    "a = np.array([1,3,8])/dt; X[a.astype(int)] = 1\n",
    "\n",
    "x = np.array([0])\n",
    "for t in range(0, tmax*int(1/dt)):\n",
    "    x = np.append(x, x[t]+dt*(-1/tau*x[t])+X[t])\n",
    "\n",
    "plt.plot(x)\n",
    "plt.xlabel('t in units of dt'); plt.ylabel('x(t)')\n",
    "plt.savefig('li1.pdf')"
   ]
  },
  {
   "cell_type": "markdown",
   "id": "416daab4-8b71-4caf-bc48-5f880d1c6a77",
   "metadata": {},
   "source": [
    "## Section 3.5: Basic probability theory "
   ]
  },
  {
   "cell_type": "markdown",
   "id": "bbadf7fe-8cb2-412e-85f8-330530957351",
   "metadata": {},
   "source": [
    "*This section extends the FCN contents on probability with the materials of Jim's [Models of the mind](https://github.com/jsmagnuson/models-of-the-mind-notebooks) class*\n",
    "\n",
    "### Sample Space $(S)$\n",
    "\n",
    "The sample space is the set of all possible outcomes (usually of an *experiment*, which can be as simple as tossing a coin).\n",
    "\n",
    "#### Example: Flipping a coin\n",
    "\n",
    "If you toss a coin, there are two possible outcomes, heads or tails. We describe the sample space as $S= \\{0, 1\\}$, where we assign one outcome the value of 0 and the other the value of 1.\n",
    "\n",
    "#### Example: Rolling a Die\n",
    "\n",
    "If you roll a standard six-sided die, the sample space is $S = \\{1, 2, 3, 4, 5, 6\\}$.\n",
    "\n",
    "---\n",
    "\n",
    "### Event\n",
    "\n",
    "An event is a subset of the sample space. An event $A$ occurs if the outcome of the experiment is an element of $S$.\n",
    "\n",
    "#### Example: Scoring High on a Die Roll\n",
    "\n",
    "Events can be simple outcomes, like rolling a 6. But they can also be sets themselves. For example, we could define an event $A$ as \"rolling a number greater than 4\" on a standard six-sided die. Then $A = \\{5, 6\\}$.\n",
    "\n",
    "---\n"
   ]
  },
  {
   "cell_type": "markdown",
   "id": "d2d77f2e-1f5d-47d7-843e-3ec64ddbe532",
   "metadata": {},
   "source": [
    "\n",
    "### Probability Measure $(P)$\n",
    "\n",
    "The Probability Measure assigns a number between 0 and 1 to each event. $A$ represents an event and $S$ represents the sample space. The probability of the entire sample space $S$ is 1, and the probability of impossible events is 0.\n",
    "\n",
    "$$\n",
    "P(A) \\geq 0 \\quad \\text{and} \\quad P(S) = 1\n",
    "$$\n",
    "\n",
    "#### Example: Lottery Ticket\n",
    "\n",
    "If you buy a lottery ticket, the probability of winning the jackpot might be $1$ in 10,000,000 or $P(A) = \\frac{1}{10,000,000}$. The probability of ***not*** winning is very close to 1.\n",
    "\n",
    "#### Example: Raffle\n",
    "\n",
    "At a town celebration, there is a raffle. There are 100 tickets. Only 4 people buy tickets. Bob buys 50, Sally buys 25, Renatta buys 15, and Jose buys 10. They write their names on each ticket, and then the tickets are put in a hat and shaken up. The mayor draws a ticket. What are the possible outcomes? The winner will be Bob, Sally, Renatta, or Jose. So there are 4 possible outcomes. Their probabilties (since we have this convenient total number of 100 tickets) are 0.5, 0.25, 0.15, and 0.1. These have to sum to 1.0, just like the number of tickets in the hat has to be the same as the number of tickets sold.\n",
    "\n",
    "\n",
    "---\n",
    "\n",
    "### Priors\n",
    "\n",
    "In probability and statistics, a \"prior\" is a pre-existing belief about an uncertain situation. Essentially, it's your best estimate (or guess) before considering new evidence. Priors can be based on historical data, expert opinion, or some other form of background knowledge.\n",
    "\n",
    "#### Example: Fair Coin\n",
    "\n",
    "If you assume that a coin is \"fair,\" your prior for the probability of getting heads is $0.5$, and likewise for tails. This is based on the belief that a fair coin has equal chances for heads and tails. \n",
    "\n",
    "#### Informal Testing\n",
    "\n",
    "To informally test whether a coin is fair, you might simply flip it several times and observe the outcomes. If the coin is indeed fair, you would expect to see approximately as many heads as tails over a large number of flips. However, this method is not precise unless you flip the coin a large or even an enormous number of times...\n",
    "\n",
    "#### Statistical Testing with Binomial Distribution\n",
    "\n",
    "For a more rigorous assessment, you can use the statistics of *binomial* distributions (cases where there are only 2 possible events or outcomes). If you flip the coin $n$ times and observe $k$ heads, the probability of this happening with a fair coin can be calculated using the binomial probability formula:\n",
    "\n",
    "$$\n",
    "P(k \\text{ heads in } n \\text{ flips}) = \\binom{n}{k} \\times 0.5^k \\times 0.5^{(n-k)}\n",
    "$$\n",
    "\n",
    "Here, $\\binom{n}{k}$ is the binomial coefficient, representing the number of ways to get $k$ successes in $n$ trials. See more on this below.\n",
    "\n",
    "After calculating this probability, if the result is extremely low, you may have grounds to reject the hypothesis that the coin is fair. Typically, a threshold (often 5% or 1%) is set for this purpose. Note that our estimate will become more precise as we increase the number of flips. (Also, the threshold depends on context. For example, if we are minting a new coin for public use as currency, we might be satisfied with a coin that is close to but not perfectly weighted. However, if we are in charge of selecting coins to use for a professional football coin toss (the winner gets to choose to kick off or receive), we would want it to be perfectly weighted.\n",
    "\n",
    "**Understanding the Binomial Coefficient in the Binomial Probability Formula**\n",
    "\n",
    "In the formula for calculating the probability of observing $k$ heads in $n$ flips of a fair coin,\n",
    "\n",
    "$$\n",
    "P(k \\text{ heads in } n \\text{ flips}) = \\binom{n}{k} \\times 0.5^k \\times 0.5^{(n-k)}\n",
    "$$\n",
    "\n",
    "The term $\\binom{n}{k}$ is, again, the \"binomial coefficient.\" This term represents the number of different ways you can\n",
    "choose $k$ successes (in this case, heads) out of $n$ trials (coin flips).\n",
    "\n",
    "$\\binom{n}{k}$ tells you how many different sequences of heads and tails will result in exactly $k$ heads when you flip a \n",
    "coin $n$  times. For example, if $n = 3$ and $k= 2$, then $\\binom{3}{2} = 3$ because there are three different ways to get exactly 2 heads in 3 coin flips: HHT, HTH, or THH.\n",
    "\n",
    "The binomial coefficient is calculated using the following formula:\n",
    "\n",
    "$$\n",
    "\\binom{n}{k} = \\frac{n!}{k! \\times (n-k)!}\n",
    "$$\n",
    "\n",
    "Here, $n!$ denotes the factorial of $n$, which is the product of all positive integers up to $n$ (e.g., if $n=3$, $n! = 1 \\times 2 \\times 3 = 6$).\n",
    "\n",
    "**Role in the Binomial Probability Formula**\n",
    "\n",
    "The binomial coefficient serves as a \"weight\" that accounts for the different ways $k$ successes can happen in $n$ trials, making it a crucial part of the binomial probability formula.\n",
    "\n",
    "\n",
    "***Probability of 4 Heads in 4 Flips with a Fair Coin***\n",
    "\n",
    "Let's try calculating the probability of getting 4 heads in a row with a fair coin. Again, we use the binomial probability formula:\n",
    "\n",
    "$$\n",
    "P(4 \\text{ heads in 4 flips}) = \\binom{4}{4} \\times 0.5^4 \\times 0.5^{(4-4)}\n",
    "$$\n",
    "\n",
    "Here, $\\binom{4}{4}$ is the binomial coefficient. Let's first calculate what this resolves to, plugging it into our formula. \n",
    "\n",
    "$$\n",
    "\\binom{4}{4} = \\frac{4!}{4!(4-4)!}\n",
    "$$\n",
    "\n",
    "The result of this calculation is $1$. This means there is exactly one way to choose 4 items out of 4 (this will be true for any case where $n = k$).\n",
    "\n",
    "\n",
    "\n",
    "The probability of getting a head in each individual flip is 0.5, and since we are considering 4 flips, this becomes $0.5^4$. So now what happens if we just calculate $1 \\times 0.5^4 \\times 0.5^{(4-4)}$? We will get 0.0625. So now let's wrap this up: \n",
    "\n",
    "$$\n",
    "P(4 \\text{ heads in 4 flips}) = 1 \\times 0.0625 \\times 1 = 0.0625\n",
    "$$\n",
    "\n",
    "So, there is a 6.25% chance of getting 4 heads in a row with a fair coin. While 6.25% is small, it's maybe not as small as we might have expected.\n",
    "\n",
    "We can check such probability with code below"
   ]
  },
  {
   "cell_type": "code",
   "execution_count": 10,
   "id": "3ad62d01-63d1-4b76-814d-1f05c8d82b45",
   "metadata": {},
   "outputs": [
    {
     "data": {
      "text/plain": [
       "0.015625"
      ]
     },
     "execution_count": 12,
     "metadata": {},
     "output_type": "execute_result"
    }
   ],
   "source": [
    "from math import comb\n",
    "\n",
    "# Number of trials (n) and number of successes (k)\n",
    "n = 4  # Number of coin flips\n",
    "k = 4  # Number of heads\n",
    "\n",
    "# Probability of getting heads or tails with a fair coin\n",
    "p_head = 0.5\n",
    "\n",
    "# Calculate the probability using the binomial distribution formula\n",
    "probability = comb(n, k) * (p_head ** k) * ((1 - p_head) ** (n - k))\n",
    "probability"
   ]
  },
  {
   "cell_type": "markdown",
   "id": "2d9f5b7b-81b1-4eda-9169-4256992ab089",
   "metadata": {},
   "source": [
    "---\n",
    "#### Example: Fair Six-Sided Die\n",
    "\n",
    "Similarly, if you have a standard six-sided die and assume that it's \"fair,\" your prior for each outcome from 1 to 6 would be $\\frac{1}{6}$. This is based on the symmetry and equal weight distribution of a standard six-sided die.\n",
    "\n",
    "---\n",
    "\n",
    "### Updating Priors\n",
    "\n",
    "Priors are updated with new data through the use of conditional probabilities and Bayes' Theorem. After the update, the prior becomes a \"*posterior* probability,\" which is a refined probability estimate that incorporates the new evidence (so we have prior and posterior, or probabities estimated before and after new evidence is available). This process of updating is the cornerstone of Bayesian inference.\n",
    "\n",
    "---\n",
    "\n",
    "### Conditional Probability: $P(A|B)$\n",
    "\n",
    "Conditional probability is the probability of $A$ occurring given that $B$ has already occurred.\n",
    "\n",
    "$$\n",
    "P(A|B) = \\frac{P(A \\land B)}{P(B)}\n",
    "$$\n",
    "\n",
    "We read the part of this on the left side of the = sign as \"the probability of A given B\", which means we are considering the probability of A being true if we assume B is true. We'd read the whole thing as \"the probability of A given B equals the probability of A and B occurring at the same time divided by the overall probability of B.\"\n",
    "\n",
    "#### Example: Medical Diagnosis\n",
    "\n",
    "If a person has certain symptoms (event $B$), the probability they have a particular disease (event $A$) might be higher, given those symptoms. \n",
    "\n",
    "\n",
    "---\n",
    "\n",
    "### Independence\n",
    "\n",
    "### Example: Coin Tosses\n",
    "\n",
    "If you toss a coin twice, the outcome of the first toss is obviously independent of the outcome of the second toss -- but the same is true of the second toss (it is unaffected by the outcome of the first toss). The coin has no memory, of course!\n",
    "\n",
    "### A more complex example\n",
    "\n",
    "Events $A$ and $B$ are independent if the occurrence of one does not affect the occurrence of the other.\n",
    "\n",
    "$$\n",
    "P(A \\land B) = P(A) \\times P(B)\n",
    "$$\n",
    "\n",
    "How do we read this? The probability of A **and** B is the probability of A times the probability of B. For example, if I decide I will walk to work every other Monday during the fall semsester, the probability of me walking to work on a Monday is 0.5. However, this has no impact on the probability that it will rain on Mondays (or any other day!). So if the probability of daytime rain in the fall semester is 0.1 (1 day out of 10), the probability that on a given Monday, I will walk to work **and** it will rain is 0.5 * 0.1 = 0.05 (5%, or, on average, 5 out of 100 or 1 out of 20 Mondays).\n",
    "\n",
    "In contrast, if I'm only 20% likely to walk to work if it's raining, these are not independent anymore. Now whether I walk to work is affected by whether it is raining. So now we have to treat rainy and non-rainy Mondays separately. If 10% of Mondays are rainy, 90% are not. So if we were considering 100 Mondays, on average 90 would not be rainy, and on those days there would be a 50% chance I would walk -- that's 45 out of 90 non-rainy Mondays. For the other 10 Mondays (the rainy ones), I would only be 20% likely to walk on those days, so that would be 2 out of 10 (on average). \n",
    "\n",
    "So now we have (0.9 * 0.5) + (0.1 * 0.2) = 0.45 + 0.02 = 0.47 chance of me walking on Mondays when we take the causal effect of rain on my behavior into account. Note that when we calculate this, which factor is causal is not indicated. For an interesting approach to taking causality into account, see Judea Pearl's work on \"do calculus\".  \n",
    "\n",
    "\n",
    "---\n"
   ]
  },
  {
   "cell_type": "markdown",
   "id": "2db42a8b-da1b-440b-bccb-c6635214831b",
   "metadata": {},
   "source": [
    "## When to Multiply and When to Add Probabilities\n",
    "\n",
    "### Multiplication Rule\n",
    "\n",
    "You multiply probabilities when events are independent.\n",
    "\n",
    "$$\n",
    "P(A  \\land B) = P(A) \\times P(B)\n",
    "$$\n",
    "\n",
    "#### Example: Cards and/or coins\n",
    "\n",
    "Getting 2 heads in a row flipping a fair coin = $0.5 \\times 05$. \n",
    "\n",
    "---\n",
    "\n",
    "What about drawing cards from a shuffled deck? What are the chances of getting an Ace and *then* a King? Intuitively, it might seem like it should (4/52) x (4/52) since there are 4 Aces and 4 Kings. However, for this to be corrrect, we would have to draw the Ace and then replace it in the deck and then reshuffle before drawing the second card. In that case, yes, the probabilities are independent, just like coin tosses, so we would get (4/52) x (4/52) = 0.0059 (0.59%). \n",
    "\n",
    "However, typically, we would just draw the first two cards. So now if we want to ask what is the probability of an Ace and *then* a King *without replacing the Ace*, it seems like we should adjust slightly: (4/52) x (4/51) = 0.006 (0.6%, or 6 out of 1000 -- very slightly more probable, with the second denominator changed to 51 because that's how many cards are left in the deck)."
   ]
  },
  {
   "cell_type": "markdown",
   "id": "5a41813c-4dd0-4c86-a233-3f1221b1bd6d",
   "metadata": {},
   "source": [
    "Let's try to work this out another way. First, let's just consider the *unordered* probability of getting a King and an Ace (either Ace-King or King-Ace). To calculate the probability of an Ace and a King being the first 2 cards in either order, we have to think about how many 2-card combinations there are. There are (52 x 51)/2 = 1326 combinations. Of those, 16 would be Ace-King combinations (since there are 4 Aces and 4 Kings). So if you draw two cards from a deck, the probability that 1 is an Ace and 1 is a king is 16/1326 = 0.012 (1.2%). Now what about the ordered probability? Of the 16 combinations, 8 will have Ace first, so the probability of getting an Ace and then a King is 8/1326 = 0.006 (0.6% or 6 out of 1000).\n",
    "\n",
    "---\n",
    "\n",
    "### Addition Rule\n",
    "\n",
    "You add probabilities when considering mutually exclusive events.\n",
    "\n",
    "$$\n",
    "P(A \\lor B) = P(A) + P(B)\n",
    "$$\n",
    "\n",
    "#### Example: Multiple Choice Quiz\n",
    "\n",
    "In a multiple-choice question with 4 choices, where only one answer is correct, the probability of guessing correctly is $P(A) = \\frac{1}{4}$. The probability of guessing incorrectly is $P(B) = \\frac{3}{4}$. The sum $P(A) + P(B) = 1$ covers all possible outcomes for one question.\n",
    "\n",
    "---"
   ]
  },
  {
   "cell_type": "markdown",
   "id": "b0755bb4-6864-4c93-9f11-8f2d6ff7a3c9",
   "metadata": {},
   "source": [
    "### Optional advanced topic: \n",
    "#### Using Logarithms to Simplify Probability Computations\n",
    "\n",
    "In probability and statistics, you often encounter products of probabilities, especially in scenarios involving independent events or likelihood functions. These products can quickly become too small or too large to handle, causing numerical instability in calculations. Logarithms provide a way to simplify these computations.\n",
    "\n",
    "#### Why Use Logarithms?\n",
    "\n",
    "Logarithms convert multiplications into additions and divisions into subtractions. This makes the arithmetic more manageable and helps to avoid numerical issues like underflow (extremely small values) and overflow (extremely large values).\n",
    "\n",
    "$$\n",
    "\\log(a \\times b) = \\log(a) + \\log(b)\n",
    "$$\n",
    "$$\n",
    "\\log\\left(\\frac{a}{b}\\right) = \\log(a) - \\log(b)\n",
    "$$\n",
    "\n",
    "##### Example: Independent Events\n",
    "\n",
    "Suppose we want to calculate the probability of observing a specific sequence in a Bernoulli (binomial) trial with success probability $ p $ and failure probability $ 1 - p $.\n",
    "\n",
    "The probability of observing, say, \"success, failure, success\" (or heads, tails, heads) would be $ p \\times (1-p) \\times p $.\n",
    "\n",
    "Using logarithms, we can simplify this to:\n",
    "\n",
    "$$\n",
    "\\log(p \\times (1-p) \\times p) = \\log(p) + \\log(1-p) + \\log(p)\n",
    "$$\n",
    "\n",
    "To get it back to a probabilty, we would exponate the result, e.g.: \n",
    "\n",
    "$$\n",
    "z' = \\log(p) + \\log(1-p) + \\log(p)\n",
    "$$\n",
    "\n",
    "Now $d$ is the log probability of observing the sequence. We get the probability by converting it back:\n",
    "\n",
    "$$\n",
    "z = exp(z')\n",
    "$$\n",
    "\n",
    "Now $z$ is the sequence probability. \n",
    "\n",
    "### Numerical Example: Using Probabilities vs Logarithms\n",
    "\n",
    "Let's consider a numerical example where the probability of success is 0.7 and the probability of failure is 0.3. This could mean a weighted coin where the probability of heads is 0.7, a quality control scenario (where a worker detecting a defective product could be 'success'), or a medical testing scenario (where 0.7 is the probability of detecting disease if the patient has it).\n",
    "\n",
    "#### Using Probabilities\n",
    "\n",
    "The probability of the sequence \"success, failure, success\" can be calculated as follows:\n",
    "\n",
    "$$\n",
    "0.7 \\times 0.3 \\times 0.7 = 0.147\n",
    "$$\n",
    "\n",
    "#### Using Logarithms\n",
    "\n",
    "We can also calculate the log-probability of the same sequence:\n",
    "\n",
    "$$\n",
    "\\log(0.7) + \\log(0.3) + \\log(0.7) \\approx -1.917\n",
    "$$\n",
    "\n",
    "#### Converting Back to Original Probability Scale\n",
    "\n",
    "To convert the log-probability back to the original probability scale, we take the exponent:\n",
    "\n",
    "$$\n",
    "\\exp(-1.917) \\approx 0.147\n",
    "$$\n",
    "\n",
    "Both methods yield the same result, confirming the equivalence of the two approaches. Using logarithms can be particularly useful in practice for avoiding numerical underflow or overflow and for computational efficiency."
   ]
  },
  {
   "cell_type": "markdown",
   "id": "2d8c971a-88d1-45b2-9033-c081032d4542",
   "metadata": {},
   "source": [
    "## Homework\n",
    "Due Monday, Feb. 3, 13.00. Send to jperez@bcbl.eu in either .doc, .txt, or just by inserting it in the markdown cell below and sending me a copy of this notebook\n",
    "1. What is the Hamming distance of these two vectors: $x = \\{0, 1, 1, 0, 1\\}$ and $y = \\{0, 0, 0, 1, 1\\}$]? What would you use this measure for in your computational neuroscience research?\n",
    "2. What is the result of modifying the time step (i.e., decreasing and increasing) of the numerical integration in Euler method? What implications you think it may have when using it to build a simulation of a neural process?\n",
    "3. What would be the probability of getting 4 heads in a row when flipping a fair coin? Would this events be dependent? Which rule would you apply, addition or multiplication? Describe briefly a neuroscientific phenomenon (it can be behavioral or neural) in which we could expect a similar probability for a small set of events (4-10 events)."
   ]
  },
  {
   "cell_type": "markdown",
   "id": "3adf0dbd-41f2-4753-9707-ba07570c00cc",
   "metadata": {},
   "source": []
  }
 ],
 "metadata": {
  "kernelspec": {
   "display_name": "Python 3 (ipykernel)",
   "language": "python",
   "name": "python3"
  },
  "language_info": {
   "codemirror_mode": {
    "name": "ipython",
    "version": 3
   },
   "file_extension": ".py",
   "mimetype": "text/x-python",
   "name": "python",
   "nbconvert_exporter": "python",
   "pygments_lexer": "ipython3",
   "version": "3.8.19"
  }
 },
 "nbformat": 4,
 "nbformat_minor": 5
}
