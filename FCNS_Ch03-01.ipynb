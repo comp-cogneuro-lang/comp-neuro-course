{
 "cells": [
  {
   "cell_type": "markdown",
   "id": "a3e1e443-c03e-4de9-a1f6-55c2787ac103",
   "metadata": {},
   "source": [
    "# Chapter 3: Math and Stats"
   ]
  },
  {
   "cell_type": "markdown",
   "id": "236c9505-6e0c-4bc0-877b-460090d7514d",
   "metadata": {},
   "source": [
    "## Section 3.1: Vector and Matrix Notations Examples\n",
    "\n",
    "This section of the notebook demonstrates vector and matrix operations using Python, based on the examples provided in Section 3.1 of the text.\n",
    "\n",
    "### Scalar Example\n",
    "A scalar is a single numerical value."
   ]
  },
  {
   "cell_type": "code",
   "execution_count": 29,
   "id": "69ec27bc-8b79-42cc-9794-dff99c7bfee5",
   "metadata": {},
   "outputs": [
    {
     "name": "stdout",
     "output_type": "stream",
     "text": [
      "Scalar value: 41\n"
     ]
    }
   ],
   "source": [
    "# %%\n",
    "# Scalar Example\n",
    "scalar = 41\n",
    "print(f\"Scalar value: {scalar}\")"
   ]
  },
  {
   "cell_type": "markdown",
   "id": "68670770-3c19-4fb1-94ee-659ec3365386",
   "metadata": {},
   "source": [
    "----\n",
    "### Vector Examples\n",
    "A vector is a one-dimensional array of values. Vectors can be column or row vectors."
   ]
  },
  {
   "cell_type": "code",
   "execution_count": 30,
   "id": "3f8a59d4-d7b1-45e6-9dd6-e4ff3f7d28de",
   "metadata": {},
   "outputs": [
    {
     "name": "stdout",
     "output_type": "stream",
     "text": [
      "Column vector:\n",
      "[[41]\n",
      " [ 7]\n",
      " [13]]\n",
      "\n",
      "Row vector:\n",
      "[41  7 13]\n"
     ]
    }
   ],
   "source": [
    "import numpy as np\n",
    "\n",
    "# Column vector representation\n",
    "column_vector = np.array([[41], [7], [13]])\n",
    "print(\"Column vector:\")\n",
    "print(column_vector)\n",
    "\n",
    "# Row vector representation\n",
    "row_vector = np.array([41, 7, 13])\n",
    "print(\"\\nRow vector:\")\n",
    "print(row_vector)"
   ]
  },
  {
   "cell_type": "markdown",
   "id": "a99d1e46-6cd4-4267-8745-0a28809b3a1c",
   "metadata": {},
   "source": [
    "----\n",
    "### Matrix Examples\n",
    "A matrix is a two-dimensional array of values, represented as rows and columns."
   ]
  },
  {
   "cell_type": "code",
   "execution_count": 31,
   "id": "acce1a58-45a1-40c1-b883-6bc22f7615fe",
   "metadata": {},
   "outputs": [
    {
     "name": "stdout",
     "output_type": "stream",
     "text": [
      "Matrix:\n",
      "[[41 12]\n",
      " [ 7 45]\n",
      " [13  9]]\n"
     ]
    }
   ],
   "source": [
    "# Matrix representation\n",
    "matrix = np.array([[41, 12], [7, 45], [13, 9]])\n",
    "print(\"Matrix:\")\n",
    "print(matrix)"
   ]
  },
  {
   "cell_type": "markdown",
   "id": "506a574e-5c89-4bab-a903-8785396660c4",
   "metadata": {},
   "source": [
    "----\n",
    "### Matrix Addition\n",
    "Adding two matrices involves adding their corresponding elements."
   ]
  },
  {
   "cell_type": "code",
   "execution_count": 32,
   "id": "e063afb6-2f3b-42a2-a94e-2ade92f0f2aa",
   "metadata": {},
   "outputs": [
    {
     "name": "stdout",
     "output_type": "stream",
     "text": [
      "Matrix A:\n",
      "[[1 2]\n",
      " [3 4]\n",
      " [5 6]]\n",
      "\n",
      "Matrix B:\n",
      "[[6 5]\n",
      " [4 3]\n",
      " [2 1]]\n",
      "\n",
      "Sum of A and B:\n",
      "[[7 7]\n",
      " [7 7]\n",
      " [7 7]]\n"
     ]
    }
   ],
   "source": [
    "# Example matrices for addition\n",
    "matrix_a = np.array([[1, 2], [3, 4], [5, 6]])\n",
    "matrix_b = np.array([[6, 5], [4, 3], [2, 1]])\n",
    "\n",
    "# Matrix addition\n",
    "matrix_sum = matrix_a + matrix_b\n",
    "print(\"Matrix A:\")\n",
    "print(matrix_a)\n",
    "print(\"\\nMatrix B:\")\n",
    "print(matrix_b)\n",
    "print(\"\\nSum of A and B:\")\n",
    "print(matrix_sum)"
   ]
  },
  {
   "cell_type": "markdown",
   "id": "6374c22c-10c1-4442-bf20-8c0ea98269a9",
   "metadata": {},
   "source": [
    "----\n",
    "### Matrix Multiplication\n",
    "Matrix multiplication involves the dot product of rows and columns."
   ]
  },
  {
   "cell_type": "code",
   "execution_count": 33,
   "id": "727d8b13-c239-4ff3-8dbf-a9f7d6c5c135",
   "metadata": {},
   "outputs": [
    {
     "name": "stdout",
     "output_type": "stream",
     "text": [
      "Matrix C:\n",
      "[[1 2]\n",
      " [3 4]]\n",
      "\n",
      "Matrix D:\n",
      "[[5 6]\n",
      " [7 8]]\n",
      "\n",
      "Product of C and D:\n",
      "[[19 22]\n",
      " [43 50]]\n"
     ]
    }
   ],
   "source": [
    "# Example matrices for multiplication\n",
    "matrix_c = np.array([[1, 2], [3, 4]])\n",
    "matrix_d = np.array([[5, 6], [7, 8]])\n",
    "\n",
    "# Matrix multiplication\n",
    "matrix_product = matrix_c @ matrix_d\n",
    "print(\"Matrix C:\")\n",
    "print(matrix_c)\n",
    "print(\"\\nMatrix D:\")\n",
    "print(matrix_d)\n",
    "print(\"\\nProduct of C and D:\")\n",
    "print(matrix_product)"
   ]
  },
  {
   "cell_type": "markdown",
   "id": "4b2f106f-d212-4285-9878-0e01050ec9c1",
   "metadata": {},
   "source": [
    "----\n",
    "### Transpose of a Matrix\n",
    "The transpose of a matrix switches its rows with columns."
   ]
  },
  {
   "cell_type": "code",
   "execution_count": 34,
   "id": "37754a38-5907-4cc1-b677-cc62377ebd71",
   "metadata": {},
   "outputs": [
    {
     "name": "stdout",
     "output_type": "stream",
     "text": [
      "Original Matrix:\n",
      "[[41 12]\n",
      " [ 7 45]\n",
      " [13  9]]\n",
      "\n",
      "Transposed Matrix:\n",
      "[[41  7 13]\n",
      " [12 45  9]]\n"
     ]
    }
   ],
   "source": [
    "# Transpose of a matrix\n",
    "transpose_matrix = matrix.T\n",
    "print(\"Original Matrix:\")\n",
    "print(matrix)\n",
    "print(\"\\nTransposed Matrix:\")\n",
    "print(transpose_matrix)"
   ]
  },
  {
   "cell_type": "markdown",
   "id": "7cb089e8-a5aa-4e65-ab49-638059b34342",
   "metadata": {},
   "source": [
    "----\n",
    "### Solving a System of Linear Equations\n",
    "Represent the equations in matrix form $ax = b$ and solve for $x$.\n",
    "\n",
    "Example equations:\n",
    "$$41x_1 + 12x_2 = 17$$\n",
    "$$7x_1 + 45x_2 = -83$$\n",
    "$$13x_1 + 9x_2 = -5$$"
   ]
  },
  {
   "cell_type": "code",
   "execution_count": 35,
   "id": "5d189acf-8b9e-4730-b140-58d858f2661e",
   "metadata": {},
   "outputs": [
    {
     "name": "stdout",
     "output_type": "stream",
     "text": [
      "Coefficient Matrix A:\n",
      "[[41 12]\n",
      " [ 7 45]\n",
      " [13  9]]\n",
      "\n",
      "Right-hand side Vector b:\n",
      "[ 17 -83  -5]\n",
      "\n",
      "Solution (x):\n",
      "[ 1. -2.]\n"
     ]
    }
   ],
   "source": [
    "# Coefficient matrix (A)\n",
    "A = np.array([[41, 12], [7, 45], [13, 9]])\n",
    "\n",
    "# Right-hand side vector (b)\n",
    "b = np.array([17, -83, -5])\n",
    "\n",
    "# Solve the system\n",
    "solution = np.linalg.lstsq(A, b, rcond=None)[0]\n",
    "print(\"Coefficient Matrix A:\")\n",
    "print(A)\n",
    "print(\"\\nRight-hand side Vector b:\")\n",
    "print(b)\n",
    "print(\"\\nSolution (x):\")\n",
    "print(solution)"
   ]
  },
  {
   "cell_type": "markdown",
   "id": "b70ec4be-33f0-4e1d-aa64-89881d998910",
   "metadata": {},
   "source": [
    "----\n",
    "## Section 3.2: Distance Measures Examples\n",
    " \n",
    "This section of the notebook demonstrates various distance measures between vectors using Python, as described in Section 3.2 of the text."
   ]
  },
  {
   "cell_type": "markdown",
   "id": "17f296ca-70e7-4be4-be12-b26f7b1d4601",
   "metadata": {},
   "source": [
    "----\n",
    "### Comparing Two Vectors\n",
    "Comparing vectors involves checking if all their components are equal."
   ]
  },
  {
   "cell_type": "code",
   "execution_count": 36,
   "id": "57ff41c5-6381-4518-a8a0-7b2a07352449",
   "metadata": {},
   "outputs": [
    {
     "name": "stdout",
     "output_type": "stream",
     "text": [
      "Vectors are equal: True\n"
     ]
    }
   ],
   "source": [
    "# Example vectors\n",
    "import numpy as np\n",
    "\n",
    "vector_a = np.array([1, 0, 1])\n",
    "vector_b = np.array([1, 0, 1])\n",
    "\n",
    "# Check for equality\n",
    "are_equal = np.array_equal(vector_a, vector_b)\n",
    "print(f\"Vectors are equal: {are_equal}\")"
   ]
  },
  {
   "cell_type": "markdown",
   "id": "03f43bff-9699-4903-a8e1-03fc56377c23",
   "metadata": {},
   "source": [
    "----\n",
    "### Hamming Distance\n",
    "The Hamming distance counts the number of differing components between two binary vectors."
   ]
  },
  {
   "cell_type": "code",
   "execution_count": 37,
   "id": "6d3a9dfd-704a-4563-946b-c28bc99a58c5",
   "metadata": {},
   "outputs": [
    {
     "name": "stdout",
     "output_type": "stream",
     "text": [
      "Hamming distance: 2\n"
     ]
    }
   ],
   "source": [
    "# Binary vectors\n",
    "vector_c = np.array([1, 0, 1, 0])\n",
    "vector_d = np.array([0, 0, 1, 1])\n",
    "\n",
    "# Hamming distance\n",
    "hamming_distance = np.sum(vector_c != vector_d)\n",
    "print(f\"Hamming distance: {hamming_distance}\")"
   ]
  },
  {
   "cell_type": "markdown",
   "id": "6891f1c2-6b47-4817-9127-85fee759d98c",
   "metadata": {},
   "source": [
    "----\n",
    "### Normalized Hamming Distance\n",
    "The normalized Hamming distance scales the Hamming distance by the vector length."
   ]
  },
  {
   "cell_type": "code",
   "execution_count": 38,
   "id": "5a5b2888-6a43-41b8-8cd1-749ab0472c14",
   "metadata": {},
   "outputs": [
    {
     "name": "stdout",
     "output_type": "stream",
     "text": [
      "Normalized Hamming distance: 0.5\n"
     ]
    }
   ],
   "source": [
    "# Normalized Hamming distance\n",
    "normalized_hamming_distance = hamming_distance / len(vector_c)\n",
    "print(f\"Normalized Hamming distance: {normalized_hamming_distance}\")"
   ]
  },
  {
   "cell_type": "markdown",
   "id": "bdb445d1-40c6-441e-a801-bd656a262349",
   "metadata": {},
   "source": [
    "----\n",
    "### Euclidean Distance\n",
    "The Euclidean distance is the straight-line distance between two vectors in space."
   ]
  },
  {
   "cell_type": "code",
   "execution_count": 39,
   "id": "bd034587-1dfa-47c7-b8d3-37ce473759af",
   "metadata": {},
   "outputs": [
    {
     "name": "stdout",
     "output_type": "stream",
     "text": [
      "Euclidean distance: 4.242640687119285\n"
     ]
    }
   ],
   "source": [
    "# Example vectors\n",
    "vector_e = np.array([3, 4])\n",
    "vector_f = np.array([0, 1])\n",
    "\n",
    "# Euclidean distance\n",
    "euclidean_distance = np.linalg.norm(vector_e - vector_f)\n",
    "print(f\"Euclidean distance: {euclidean_distance}\")"
   ]
  },
  {
   "cell_type": "markdown",
   "id": "33b9dd36-4aff-4349-b0fe-f13c04498bcd",
   "metadata": {},
   "source": [
    "----\n",
    "### Cosine Similarity\n",
    "Cosine similarity measures the angle between two vectors, ranging from -1 to 1."
   ]
  },
  {
   "cell_type": "code",
   "execution_count": 40,
   "id": "98fcc578-2a92-4e6f-bf85-523cfa230538",
   "metadata": {},
   "outputs": [
    {
     "name": "stdout",
     "output_type": "stream",
     "text": [
      "Cosine similarity: 0.8\n"
     ]
    }
   ],
   "source": [
    "# Cosine similarity with a check for zero norm\n",
    "if np.linalg.norm(vector_e) == 0 or np.linalg.norm(vector_f) == 0:\n",
    "    print(\"Cosine similarity is undefined because one of the vectors has zero magnitude.\")\n",
    "else:\n",
    "    cosine_similarity = np.dot(vector_e, vector_f) / (np.linalg.norm(vector_e) * np.linalg.norm(vector_f))\n",
    "    print(f\"Cosine similarity: {cosine_similarity}\")\n",
    "\n",
    "# # Cosine similarity\n",
    "# cosine_similarity = np.dot(vector_e, vector_f) / (np.linalg.norm(vector_e) * np.linalg.norm(vector_f))\n",
    "# print(f\"Cosine similarity: {cosine_similarity}\")"
   ]
  },
  {
   "cell_type": "markdown",
   "id": "1497a5ed-be4a-4c98-bda2-d94d2b20c582",
   "metadata": {},
   "source": [
    "----\n",
    "### Pearson Correlation Coefficient\n",
    "Pearson correlation measures the linear correlation between two vectors."
   ]
  },
  {
   "cell_type": "code",
   "execution_count": 41,
   "id": "7c42176f-7037-4c29-ab8f-b7dcf004ed63",
   "metadata": {},
   "outputs": [
    {
     "name": "stdout",
     "output_type": "stream",
     "text": [
      "Pearson correlation coefficient: -1.0\n"
     ]
    }
   ],
   "source": [
    "# Example vectors\n",
    "vector_g = np.array([1, 2, 3, 4])\n",
    "vector_h = np.array([4, 3, 2, 1])\n",
    "\n",
    "# Pearson correlation coefficient\n",
    "mean_g = np.mean(vector_g)\n",
    "mean_h = np.mean(vector_h)\n",
    "\n",
    "numerator = np.sum((vector_g - mean_g) * (vector_h - mean_h))\n",
    "denominator = np.sqrt(np.sum((vector_g - mean_g)**2) * np.sum((vector_h - mean_h)**2))\n",
    "pearson_correlation = numerator / denominator\n",
    "\n",
    "print(f\"Pearson correlation coefficient: {pearson_correlation}\")"
   ]
  },
  {
   "cell_type": "markdown",
   "id": "8fd44827-b59d-4c23-8986-a9938da9c1c6",
   "metadata": {},
   "source": [
    "----\n",
    "## Section 3.3: The δ-Function Examples\n",
    " \n",
    "This section of the notebook demonstrates the use of the δ-function in Python, based on the examples in Section 3.3 of the text.\n",
    "\n",
    "----\n",
    "### Definition of the δ-Function\n",
    "The δ-function is a mathematical construct that is zero everywhere except at one point, where it is infinite. The integral over the δ-function is one.\n",
    "\n",
    "----\n",
    "### Representing the δ-Function in Python\n",
    "While the δ-function cannot be directly represented in Python, we can approximate it numerically."
   ]
  },
  {
   "cell_type": "code",
   "execution_count": 42,
   "id": "2a120d30-a93d-40a1-a4da-935e100b2e18",
   "metadata": {},
   "outputs": [
    {
     "data": {
      "image/png": "[encoded data removed]",
      "text/plain": [
       "<Figure size 640x480 with 1 Axes>"
      ]
     },
     "metadata": {},
     "output_type": "display_data"
    }
   ],
   "source": [
    "import numpy as np\n",
    "import matplotlib.pyplot as plt\n",
    "\n",
    "# Define a numerical approximation of the δ-function\n",
    "def delta_function(x, x0, epsilon):\n",
    "    \"\"\"\n",
    "    Approximate δ-function as a narrow Gaussian.\n",
    "    x: array of points where the δ-function is evaluated.\n",
    "    x0: location of the δ-function peak.\n",
    "    epsilon: width of the approximation.\n",
    "    \"\"\"\n",
    "    return 1 / (np.sqrt(2 * np.pi) * epsilon) * np.exp(-((x - x0)**2) / (2 * epsilon**2))\n",
    "\n",
    "# Domain for visualization\n",
    "x = np.linspace(-5, 5, 1000)\n",
    "\n",
    "# Approximation of δ-function centered at x0 = 0\n",
    "delta = delta_function(x, 0, 0.1)\n",
    "\n",
    "# Plot the δ-function approximation\n",
    "plt.plot(x, delta, label=\"δ-function approximation\")\n",
    "plt.xlabel(\"x\")\n",
    "plt.ylabel(\"δ(x)\")\n",
    "plt.legend()\n",
    "plt.title(\"Approximation of δ-function\")\n",
    "plt.show()"
   ]
  },
  {
   "cell_type": "markdown",
   "id": "2f54417b-97d3-4779-8b2e-7182f7e25853",
   "metadata": {},
   "source": [
    "----\n",
    "### Using the δ-Function in Integration\n",
    "The δ-function can be used as an integration kernel. For example, integrating the δ-function over a function evaluates the function at the location of the δ-function's peak."
   ]
  },
  {
   "cell_type": "code",
   "execution_count": 43,
   "id": "68889c54-e809-46b6-95ad-8cbf2e9d1798",
   "metadata": {},
   "outputs": [
    {
     "name": "stdout",
     "output_type": "stream",
     "text": [
      "Integral of f(x) = x^2 with δ-function centered at x0=1: 1.01\n"
     ]
    }
   ],
   "source": [
    "# Function to integrate\n",
    "f = lambda x: x**2  # Example function\n",
    "\n",
    "# Numerical integration with δ-function\n",
    "from scipy.integrate import quad\n",
    "\n",
    "def integrate_with_delta(func, x0, epsilon):\n",
    "    \"\"\"\n",
    "    Numerically integrate a function using the δ-function as a kernel.\n",
    "    func: the function to integrate.\n",
    "    x0: location of the δ-function peak.\n",
    "    epsilon: width of the δ-function approximation.\n",
    "    \"\"\"\n",
    "    kernel = lambda x: func(x) * delta_function(x, x0, epsilon)\n",
    "    integral, _ = quad(kernel, -np.inf, np.inf)\n",
    "    return integral\n",
    "\n",
    "# Evaluate the integral\n",
    "result = integrate_with_delta(f, 1, 0.1)\n",
    "print(f\"Integral of f(x) = x^2 with δ-function centered at x0=1: {result}\")"
   ]
  },
  {
   "cell_type": "markdown",
   "id": "f76590e2-ac6e-4030-8282-f9decdd2281a",
   "metadata": {},
   "source": [
    "----\n",
    "### Example: δ-Function as a Density Function\n",
    "The δ-function is useful for representing discrete events in a continuous framework. Here we simulate a case where discrete points are modeled using δ-functions."
   ]
  },
  {
   "cell_type": "code",
   "execution_count": 44,
   "id": "9fbe98f7-697a-4146-95e6-8a98103490b7",
   "metadata": {},
   "outputs": [
    {
     "data": {
      "image/png": "[encoded data removed]",
      "text/plain": [
       "<Figure size 640x480 with 1 Axes>"
      ]
     },
     "metadata": {},
     "output_type": "display_data"
    }
   ],
   "source": [
    "# Define discrete points and their weights\n",
    "points = [0, 1, 2]\n",
    "weights = [1, 2, 1]\n",
    "\n",
    "def weighted_delta(x, points, weights, epsilon):\n",
    "    \"\"\"\n",
    "    Sum of weighted δ-functions.\n",
    "    x: domain for evaluation.\n",
    "    points: locations of δ-functions.\n",
    "    weights: weights of each δ-function.\n",
    "    epsilon: width of δ-function approximation.\n",
    "    \"\"\"\n",
    "    return sum(w * delta_function(x, p, epsilon) for p, w in zip(points, weights))\n",
    "\n",
    "# Sum of weighted δ-functions\n",
    "delta_sum = weighted_delta(x, points, weights, 0.1)\n",
    "\n",
    "# Plot the weighted δ-functions\n",
    "plt.plot(x, delta_sum, label=\"Weighted δ-functions\")\n",
    "plt.xlabel(\"x\")\n",
    "plt.ylabel(\"Sum of δ(x)\")\n",
    "plt.legend()\n",
    "plt.title(\"Weighted δ-Functions\")\n",
    "plt.show()"
   ]
  }
 ],
 "metadata": {
  "kernelspec": {
   "display_name": "Python 3 (ipykernel)",
   "language": "python",
   "name": "python3"
  },
  "language_info": {
   "codemirror_mode": {
    "name": "ipython",
    "version": 3
   },
   "file_extension": ".py",
   "mimetype": "text/x-python",
   "name": "python",
   "nbconvert_exporter": "python",
   "pygments_lexer": "ipython3",
   "version": "3.12.2"
  }
 },
 "nbformat": 4,
 "nbformat_minor": 5
}
