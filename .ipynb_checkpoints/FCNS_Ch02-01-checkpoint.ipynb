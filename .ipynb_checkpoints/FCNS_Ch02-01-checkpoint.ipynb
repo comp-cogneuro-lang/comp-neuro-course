{
 "cells": [
  {
   "cell_type": "markdown",
   "id": "88da00e6-fb22-496e-bade-c47e18372873",
   "metadata": {},
   "source": [
    "----\n",
    "# Chapter 2: Scientific Programming with Python\n",
    " \n",
    "This notebook explores all code examples from Chapter 2 of the text.\n",
    "It is designed for use in a Jupyter Notebook environment, with explanations\n",
    "included as Markdown and Python code cells demonstrating each concept.\n",
    "\n",
    "Topics covered include:\n",
    "\n",
    "- Python programming basics\n",
    "- Data types and arrays\n",
    "- Control flow\n",
    "- Functions\n",
    "- Plotting\n",
    "- Code efficiency and vectorization\n",
    "\n",
    "----"
   ]
  },
  {
   "cell_type": "code",
   "execution_count": 2,
   "id": "cd12ee0c-e232-4565-8ae3-1d92af2ea43c",
   "metadata": {},
   "outputs": [],
   "source": [
    "# Import necessary libraries\n",
    "import numpy as np\n",
    "import matplotlib.pyplot as plt\n",
    "import time  # For timing operations"
   ]
  },
  {
   "cell_type": "markdown",
   "id": "e737cbd5-9865-4f48-8774-9f3c702a8f4d",
   "metadata": {},
   "source": [
    "----\n",
    "## Section 2.1: The Python Programming Environment\n",
    "\n",
    "Python is a versatile programming language, and in this chapter, we use libraries \n",
    "such as NumPy and Matplotlib for numerical computations and plotting. Two \n",
    "programming environments are recommended: Jupyter Notebook for interactivity \n",
    "and Spyder for more traditional debugging support.\n",
    "\n",
    "Let’s start by importing the necessary libraries for our scientific computations.\n"
   ]
  },
  {
   "cell_type": "code",
   "execution_count": 3,
   "id": "e560fcde-6c01-4da3-8c60-52084f4001ad",
   "metadata": {},
   "outputs": [],
   "source": [
    "# Importing libraries\n",
    "import numpy as np\n",
    "import matplotlib.pyplot as plt"
   ]
  },
  {
   "cell_type": "markdown",
   "id": "0b6d2b7d-bdce-4196-a5bb-30289533bfc4",
   "metadata": {},
   "source": [
    "----\n",
    "## Section 2.2: Basic Language Elements\n",
    "### 2.2.1: Basic Data Types and Arrays\n",
    "\n",
    "In Python, scalars and lists are basic data structures. Lists are collections of\n",
    "items, while NumPy arrays offer powerful tools for mathematical operations.\n",
    "Here’s how to define scalars, lists, and arrays:\n"
   ]
  },
  {
   "cell_type": "code",
   "execution_count": 4,
   "id": "ef10df5a-95c4-44af-bc4a-b0313d4c9971",
   "metadata": {},
   "outputs": [
    {
     "name": "stdout",
     "output_type": "stream",
     "text": [
      "Scalar: 4\n",
      "List: [1, 2, 3]\n"
     ]
    }
   ],
   "source": [
    "# Define a scalar\n",
    "aScalar = 4  # A single numerical value\n",
    "print(\"Scalar:\", aScalar)\n",
    "\n",
    "# Define a list\n",
    "aList = [1, 2, 3]  # A collection of numbers\n",
    "print(\"List:\", aList)"
   ]
  },
  {
   "cell_type": "markdown",
   "id": "cabb250e-57c6-4ea7-8e28-c870791f0c64",
   "metadata": {},
   "source": [
    "----\n",
    "### NumPy arrays provide advanced capabilities for numerical computations. \n",
    "\n",
    "Here’s how we define and manipulate 1D arrays:\n"
   ]
  },
  {
   "cell_type": "code",
   "execution_count": 5,
   "id": "126b8655-b5f0-496d-b02a-92ac950d725f",
   "metadata": {},
   "outputs": [
    {
     "name": "stdout",
     "output_type": "stream",
     "text": [
      "NumPy Array: [1 2 3]\n",
      "First element: 1\n",
      "Last element: 3\n",
      "Slice from index 1 to 2: [2 3]\n"
     ]
    }
   ],
   "source": [
    "# Create a 1D NumPy array\n",
    "aVector = np.array([1, 2, 3])\n",
    "print(\"NumPy Array:\", aVector)\n",
    "\n",
    "# Access elements of the array\n",
    "print(\"First element:\", aVector[0])\n",
    "print(\"Last element:\", aVector[-1])\n",
    "\n",
    "# Slice the array (extracting a subarray)\n",
    "print(\"Slice from index 1 to 2:\", aVector[1:3])"
   ]
  },
  {
   "cell_type": "markdown",
   "id": "82b8734b-bfc8-4399-9f68-436e035a36bf",
   "metadata": {},
   "source": [
    "----\n",
    "\n",
    "**Matrices** are 2D arrays in NumPy, and they enable a range of operations, such as\n",
    "accessing elements and performing mathematical computations.\n"
   ]
  },
  {
   "cell_type": "code",
   "execution_count": 6,
   "id": "eec4057b-486e-416a-96a0-a6661527bb25",
   "metadata": {},
   "outputs": [
    {
     "name": "stdout",
     "output_type": "stream",
     "text": [
      "Matrix:\n",
      "[[1 2 3]\n",
      " [4 5 6]]\n",
      "Element at row 1, column 2: 6\n"
     ]
    }
   ],
   "source": [
    "\n",
    "# Create a 2D NumPy array (matrix)\n",
    "aMatrix = np.array([[1, 2, 3], [4, 5, 6]])\n",
    "print(\"Matrix:\")\n",
    "print(aMatrix)\n",
    "\n",
    "# Access a specific element (row 1, column 2)\n",
    "print(\"Element at row 1, column 2:\", aMatrix[1, 2])"
   ]
  },
  {
   "cell_type": "markdown",
   "id": "b9e60e6b-0ae9-428b-b041-401290aede43",
   "metadata": {},
   "source": [
    "----\n",
    "**Transpose** is an essential matrix operation that swaps rows with columns.\n"
   ]
  },
  {
   "cell_type": "code",
   "execution_count": 7,
   "id": "c5dbd738-39d6-435e-9121-1dd1cfa2c1d9",
   "metadata": {},
   "outputs": [
    {
     "name": "stdout",
     "output_type": "stream",
     "text": [
      "Transposed Matrix:\n",
      "[[1 4]\n",
      " [2 5]\n",
      " [3 6]]\n"
     ]
    }
   ],
   "source": [
    "\n",
    "# Transpose the matrix\n",
    "print(\"Transposed Matrix:\")\n",
    "print(aMatrix.T)"
   ]
  },
  {
   "cell_type": "markdown",
   "id": "a33d01bd-9c5e-488b-8f1f-12214259d7bf",
   "metadata": {},
   "source": [
    "----\n",
    "We can also perform **element-wise operations** on matrices, including multiplication,\n",
    "exponentiation, and comparisons."
   ]
  },
  {
   "cell_type": "code",
   "execution_count": 8,
   "id": "f421f2fe-2873-44f7-a1ae-72863b7977c2",
   "metadata": {},
   "outputs": [
    {
     "name": "stdout",
     "output_type": "stream",
     "text": [
      "Element-wise Multiplication:\n",
      "[[ 5 10 18]\n",
      " [28 40 54]]\n",
      "Element-wise Exponentiation:\n",
      "[[  1   8  27]\n",
      " [ 64 125 216]]\n",
      "Boolean Comparison (aMatrix > 3):\n",
      "[[False False False]\n",
      " [ True  True  True]]\n"
     ]
    }
   ],
   "source": [
    "\n",
    "# Create another matrix for operations\n",
    "matrix2 = np.array([[5, 5, 6], [7, 8, 9]])\n",
    "\n",
    "# Element-wise multiplication\n",
    "result1 = aMatrix * matrix2\n",
    "print(\"Element-wise Multiplication:\")\n",
    "print(result1)\n",
    "\n",
    "# Element-wise exponentiation\n",
    "result2 = aMatrix ** 3\n",
    "print(\"Element-wise Exponentiation:\")\n",
    "print(result2)\n",
    "\n",
    "# Boolean comparison\n",
    "result3 = aMatrix > 3\n",
    "print(\"Boolean Comparison (aMatrix > 3):\")\n",
    "print(result3)"
   ]
  },
  {
   "cell_type": "markdown",
   "id": "123d57a6-3bde-4b50-90c6-8d6dcf6a9765",
   "metadata": {},
   "source": [
    "----\n",
    "**Matrix multiplication** (dot product) is a fundamental operation in linear algebra.\n",
    "In Python, use the `@` operator or the `np.dot` function for matrix multiplication.\n"
   ]
  },
  {
   "cell_type": "code",
   "execution_count": 9,
   "id": "29cbd1be-a8fd-4414-ad61-5ed239503823",
   "metadata": {},
   "outputs": [
    {
     "name": "stdout",
     "output_type": "stream",
     "text": [
      "Matrix Multiplication Result:\n",
      "[[ 33  50]\n",
      " [ 81 122]]\n"
     ]
    }
   ],
   "source": [
    "\n",
    "# Perform matrix multiplication\n",
    "result = aMatrix @ matrix2.T\n",
    "print(\"Matrix Multiplication Result:\")\n",
    "print(result)"
   ]
  },
  {
   "cell_type": "markdown",
   "id": "4d68bf18-82a1-4b4b-a070-df6d56d98469",
   "metadata": {},
   "source": [
    "----\n",
    "**Indexing** allows us to extract subsets of arrays, while concatenation combines arrays.\n"
   ]
  },
  {
   "cell_type": "code",
   "execution_count": 10,
   "id": "e13ba08c-d41f-448f-8656-75857033f0e2",
   "metadata": {},
   "outputs": [
    {
     "name": "stdout",
     "output_type": "stream",
     "text": [
      "Subset of Matrix:\n",
      "[4 6]\n",
      "Concatenated Matrix:\n",
      "[[1 2 3]\n",
      " [4 5 6]\n",
      " [5 5 6]\n",
      " [7 8 9]]\n"
     ]
    }
   ],
   "source": [
    "\n",
    "# Define an index for subsetting\n",
    "idx = [[1], [0, 2]]\n",
    "\n",
    "# Subset the matrix\n",
    "print(\"Subset of Matrix:\")\n",
    "print(aMatrix[tuple(idx)])\n",
    "\n",
    "# Concatenate matrices along rows\n",
    "concatenated = np.concatenate((aMatrix, matrix2), axis=0)\n",
    "print(\"Concatenated Matrix:\")\n",
    "print(concatenated)"
   ]
  },
  {
   "cell_type": "markdown",
   "id": "c44c5e57-a919-4da5-af6d-8aa395d00108",
   "metadata": {},
   "source": [
    "----\n",
    "### 2.2.2: Control Flow\n",
    "\n",
    "Python supports basic programming constructs like loops and conditional statements.\n"
   ]
  },
  {
   "cell_type": "code",
   "execution_count": 11,
   "id": "886b256a-2071-494e-b200-d0aa8dd29bd5",
   "metadata": {},
   "outputs": [
    {
     "name": "stdout",
     "output_type": "stream",
     "text": [
      "Iteration 0\n",
      "Iteration 1\n",
      "Iteration 2\n",
      "Iteration 3\n",
      "The scalar is greater than or equal to 1\n"
     ]
    }
   ],
   "source": [
    "\n",
    "# Example of a loop\n",
    "for i in range(4):\n",
    "    print(f\"Iteration {i}\")\n",
    "\n",
    "# Example of a conditional statement\n",
    "if aScalar < 1:\n",
    "    print(\"The scalar is less than 1\")\n",
    "else:\n",
    "    print(\"The scalar is greater than or equal to 1\")"
   ]
  },
  {
   "cell_type": "markdown",
   "id": "07a4a62b-24d7-4369-aecf-1b55bd280f41",
   "metadata": {},
   "source": [
    "----\n",
    "### 2.2.3: Functions\n",
    "\n",
    "Functions allow code reuse and modularity. Here’s how to define and call a function\n",
    "in Python, along with an example of a `lambda` function.\n"
   ]
  },
  {
   "cell_type": "code",
   "execution_count": 12,
   "id": "bae10e67-1fad-40b1-a481-bbf922f84b6b",
   "metadata": {},
   "outputs": [
    {
     "name": "stdout",
     "output_type": "stream",
     "text": [
      "Function Output with one argument: 12\n",
      "Function Output with two arguments: 5\n",
      "Logistic Function Value for x=0: 0.5\n"
     ]
    }
   ],
   "source": [
    "\n",
    "# Define a function with default arguments\n",
    "def func(arg1, arg2=10):\n",
    "    return arg1 + arg2\n",
    "\n",
    "# Call the function\n",
    "print(\"Function Output with one argument:\", func(2))\n",
    "print(\"Function Output with two arguments:\", func(2, 3))\n",
    "\n",
    "# Define a lambda function (inline function)\n",
    "logistic = lambda x: 1 / (1 + np.exp(-x))\n",
    "print(\"Logistic Function Value for x=0:\", logistic(0))"
   ]
  },
  {
   "cell_type": "markdown",
   "id": "22b45997-e110-43fd-af7d-11a36ebbe2ee",
   "metadata": {},
   "source": [
    "----\n",
    "### 2.2.4: Plotting\n",
    "\n",
    "Most often, we use Matplotlib to create plots. For example, here's how we can plot the logistic function.\n"
   ]
  },
  {
   "cell_type": "code",
   "execution_count": 13,
   "id": "28a1287e-8f19-42a7-b354-400921ad1142",
   "metadata": {},
   "outputs": [
    {
     "data": {
      "image/png": "[encoded data removed]",
      "text/plain": [
       "<Figure size 640x480 with 1 Axes>"
      ]
     },
     "metadata": {},
     "output_type": "display_data"
    }
   ],
   "source": [
    "\n",
    "# Define the range for plotting\n",
    "t = np.arange(-10, 10, 0.1)\n",
    "\n",
    "# Plot the logistic function\n",
    "plt.plot(t, logistic(t))\n",
    "plt.xlabel('t')\n",
    "plt.ylabel('logistic(t)')\n",
    "plt.title('Logistic Function')\n",
    "plt.show()"
   ]
  },
  {
   "cell_type": "markdown",
   "id": "bd94d7cd-1e13-4412-be31-20abfa6f6461",
   "metadata": {},
   "source": [
    "----\n",
    "### 2.2.5: Timing the Program\n",
    "\n",
    "We can measure the execution time of code using Python’s `time` module. There are other packages that provide funcionality like progress bars, those these do not work with all python functions and packages. \n"
   ]
  },
  {
   "cell_type": "code",
   "execution_count": 14,
   "id": "783a0dee-efc2-4251-8d96-3aa09b2fa805",
   "metadata": {},
   "outputs": [
    {
     "name": "stdout",
     "output_type": "stream",
     "text": [
      "Elapsed Time: 1.01 seconds\n"
     ]
    }
   ],
   "source": [
    "\n",
    "# Measure execution time\n",
    "tic = time.time()\n",
    "# Simulate a task\n",
    "time.sleep(1)  # Wait for 1 second\n",
    "toc = time.time()\n",
    "print(f\"Elapsed Time: {toc - tic:.2f} seconds\")"
   ]
  },
  {
   "cell_type": "markdown",
   "id": "79998f24-39c5-48da-b4c1-9491b01dc0db",
   "metadata": {},
   "source": [
    "----\n",
    "## 2.3: Code Efficiency and Vectorization\n",
    "\n",
    "Python and NumPy support **vectorized operations**, which are faster and more\n",
    "readable than conventional loops. Let’s compare a loop-based matrix multiplication\n",
    "with a vectorized implementation.\n"
   ]
  },
  {
   "cell_type": "code",
   "execution_count": 16,
   "id": "233b2be0-50f4-4dc4-863c-b9d0b667ea1f",
   "metadata": {},
   "outputs": [
    {
     "name": "stdout",
     "output_type": "stream",
     "text": [
      "Slow Method Time: 0.328 seconds\n",
      "Fast Method Time: 0.009 seconds\n"
     ]
    }
   ],
   "source": [
    "\n",
    "# Define a slow matrix multiplication using loops\n",
    "def matmulslow(a, b):\n",
    "    m, n = a.shape\n",
    "    p = b.shape[1]\n",
    "    c = np.zeros((m, p))\n",
    "    for i in range(m):\n",
    "        for j in range(p):\n",
    "            for k in range(n):\n",
    "                c[i, j] += a[i, k] * b[k, j]\n",
    "    return c\n",
    "\n",
    "# Define a fast matrix multiplication using NumPy\n",
    "def matmulfast(a, b):\n",
    "    return a @ b\n",
    "\n",
    "# Create random matrices for testing\n",
    "a = np.random.rand(100, 100)\n",
    "b = np.random.rand(100, 100)\n",
    "\n",
    "# Compare execution time for both implementations\n",
    "tic = time.time()\n",
    "slow_result = matmulslow(a, b)\n",
    "toc = time.time()\n",
    "print(f\"Slow Method Time: {toc - tic:.3f} seconds\")\n",
    "\n",
    "tic = time.time()\n",
    "fast_result = matmulfast(a, b)\n",
    "toc = time.time()\n",
    "print(f\"Fast Method Time: {toc - tic:.3f} seconds\")"
   ]
  },
  {
   "cell_type": "markdown",
   "id": "907dee21-877f-4e67-bdc5-a70a02b084a1",
   "metadata": {},
   "source": [
    "------\n",
    "# Homework\n",
    "### Due 13:00 on Monday before next class\n",
    "\n",
    "*Send as email or as .docx, .pdf, .rtf, or .txt to j.magnuson@bcbl.eu*\n",
    "\n",
    "1. Confirm that you were able to complete the jupyter setup for the course (just state \"jupyter setup complete\" for this one if that is true; otherwise, describe problems, error messages, etc.).\n",
    "2. Confirm that you could run all cells in this notebook (\"All cells run\", or describe problems)\n",
    "3. In your own words, briefly describe what a model is, and why we need and use computational models in neuroscience. "
   ]
  },
  {
   "cell_type": "code",
   "execution_count": null,
   "id": "06af3a7f-07b6-44e6-967f-db52dc466bd6",
   "metadata": {},
   "outputs": [],
   "source": []
  }
 ],
 "metadata": {
  "kernelspec": {
   "display_name": "Python 3 (ipykernel)",
   "language": "python",
   "name": "python3"
  },
  "language_info": {
   "codemirror_mode": {
    "name": "ipython",
    "version": 3
   },
   "file_extension": ".py",
   "mimetype": "text/x-python",
   "name": "python",
   "nbconvert_exporter": "python",
   "pygments_lexer": "ipython3",
   "version": "3.12.2"
  }
 },
 "nbformat": 4,
 "nbformat_minor": 5
}
